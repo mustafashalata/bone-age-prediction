{
  "nbformat": 4,
  "nbformat_minor": 0,
  "metadata": {
    "colab": {
      "name": "bone age prediction  .ipynb",
      "provenance": [],
      "collapsed_sections": [
        "U-gEpbBkH_33",
        "MmSMdMYnspbB",
        "gR4Zbni-s68f",
        "EBOxNdAAwTTq",
        "oEBUnzOMw3aI",
        "LU2kZbmazhoI",
        "4SNH-omX0OX0",
        "7EkXxcpT0hsS",
        "NkHYEgCP3tjS",
        "PLZosF9a3ye2"
      ]
    },
    "kernelspec": {
      "name": "python3",
      "display_name": "Python 3"
    }
  },
  "cells": [
    {
      "cell_type": "markdown",
      "metadata": {
        "id": "U-gEpbBkH_33"
      },
      "source": [
        "# **importing libraries**"
      ]
    },
    {
      "cell_type": "code",
      "metadata": {
        "id": "dvGO-ZtfH1cw"
      },
      "source": [
        "import numpy as np\n",
        "import csv\n",
        "import random\n",
        "from PIL import Image\n",
        "from PIL import ImageShow\n",
        "import scipy\n",
        "import os\n",
        "import tensorflow as tf\n",
        "#import tensorflow.keras.backend.tensorflow_backend as KTF\n",
        "from keras.layers import Input, Dense, Flatten, Activation,\\\n",
        "    BatchNormalization, Reshape, UpSampling2D, ZeroPadding2D, \\\n",
        "    Dropout, Lambda, AveragePooling2D, GlobalAveragePooling2D, concatenate\n",
        "from keras.applications.inception_resnet_v2 import InceptionResNetV2\n",
        "from keras import Model\n",
        "from keras.optimizers import Adam\n",
        "from keras.applications.inception_v3 import InceptionV3\n",
        "from keras.callbacks import ModelCheckpoint, History, EarlyStopping, CSVLogger, RemoteMonitor,ReduceLROnPlateau\n",
        "from keras.preprocessing.image import ImageDataGenerator\n",
        "import pandas as pd\n",
        "from random import randint\n",
        "from skimage.transform import resize\n",
        "from keras.applications.inception_v3 import preprocess_input\n",
        "#from keras.applications.vgg16 import VGG16"
      ],
      "execution_count": null,
      "outputs": []
    },
    {
      "cell_type": "markdown",
      "metadata": {
        "id": "MmSMdMYnspbB"
      },
      "source": [
        "#*getting data from kaggle and unziping it*"
      ]
    },
    {
      "cell_type": "code",
      "metadata": {
        "id": "gJf0cFyxIMxw",
        "outputId": "e1df4e91-1c5b-418d-9c35-2c090de91a21",
        "colab": {
          "base_uri": "https://localhost:8080/"
        }
      },
      "source": [
        "# Getting the api josn file to download the data from kaggle (competition authorization)\n",
        "from google.colab import files\n",
        "#files.upload()\n",
        "\n",
        "!pip install -q kaggle\n",
        "!mkdir -p ~/.kaggle\n",
        "!cp kaggle.json ~/.kaggle/\n",
        "!ls ~/.kaggle\n",
        "!chmod 600 /root/.kaggle/kaggle.json  # set permission"
      ],
      "execution_count": null,
      "outputs": [
        {
          "output_type": "stream",
          "text": [
            "kaggle.json\n"
          ],
          "name": "stdout"
        }
      ]
    },
    {
      "cell_type": "code",
      "metadata": {
        "id": "TGNMs9Ikx4DF",
        "outputId": "c559fbda-b945-437b-a6d5-0d606f64c94d",
        "colab": {
          "base_uri": "https://localhost:8080/"
        }
      },
      "source": [
        "!kaggle datasets download -d kmader/rsna-bone-age"
      ],
      "execution_count": null,
      "outputs": [
        {
          "output_type": "stream",
          "text": [
            "Downloading rsna-bone-age.zip to /content\n",
            "100% 9.28G/9.29G [02:25<00:00, 55.3MB/s]\n",
            "100% 9.29G/9.29G [02:25<00:00, 68.6MB/s]\n"
          ],
          "name": "stdout"
        }
      ]
    },
    {
      "cell_type": "code",
      "metadata": {
        "id": "BEdY0DYqJENH"
      },
      "source": [
        "!unzip -qq /content/rsna-bone-age.zip"
      ],
      "execution_count": null,
      "outputs": []
    },
    {
      "cell_type": "markdown",
      "metadata": {
        "id": "gR4Zbni-s68f"
      },
      "source": [
        "#**preparing gender data and boneage (y) from csv**"
      ]
    },
    {
      "cell_type": "code",
      "metadata": {
        "id": "-oskwkysMxuI"
      },
      "source": [
        "df_raw =pd.read_csv('/content/boneage-training-dataset.csv')"
      ],
      "execution_count": null,
      "outputs": []
    },
    {
      "cell_type": "code",
      "metadata": {
        "id": "5IllUy5nQIzO",
        "outputId": "f04edfb6-d04d-4734-91dd-c03f3f5e1f0b",
        "colab": {
          "base_uri": "https://localhost:8080/",
          "height": 388
        }
      },
      "source": [
        "df_raw"
      ],
      "execution_count": null,
      "outputs": [
        {
          "output_type": "execute_result",
          "data": {
            "text/html": [
              "<div>\n",
              "<style scoped>\n",
              "    .dataframe tbody tr th:only-of-type {\n",
              "        vertical-align: middle;\n",
              "    }\n",
              "\n",
              "    .dataframe tbody tr th {\n",
              "        vertical-align: top;\n",
              "    }\n",
              "\n",
              "    .dataframe thead th {\n",
              "        text-align: right;\n",
              "    }\n",
              "</style>\n",
              "<table border=\"1\" class=\"dataframe\">\n",
              "  <thead>\n",
              "    <tr style=\"text-align: right;\">\n",
              "      <th></th>\n",
              "      <th>id</th>\n",
              "      <th>boneage</th>\n",
              "      <th>male</th>\n",
              "    </tr>\n",
              "  </thead>\n",
              "  <tbody>\n",
              "    <tr>\n",
              "      <th>0</th>\n",
              "      <td>1377</td>\n",
              "      <td>180</td>\n",
              "      <td>False</td>\n",
              "    </tr>\n",
              "    <tr>\n",
              "      <th>1</th>\n",
              "      <td>1378</td>\n",
              "      <td>12</td>\n",
              "      <td>False</td>\n",
              "    </tr>\n",
              "    <tr>\n",
              "      <th>2</th>\n",
              "      <td>1379</td>\n",
              "      <td>94</td>\n",
              "      <td>False</td>\n",
              "    </tr>\n",
              "    <tr>\n",
              "      <th>3</th>\n",
              "      <td>1380</td>\n",
              "      <td>120</td>\n",
              "      <td>True</td>\n",
              "    </tr>\n",
              "    <tr>\n",
              "      <th>4</th>\n",
              "      <td>1381</td>\n",
              "      <td>82</td>\n",
              "      <td>False</td>\n",
              "    </tr>\n",
              "    <tr>\n",
              "      <th>...</th>\n",
              "      <td>...</td>\n",
              "      <td>...</td>\n",
              "      <td>...</td>\n",
              "    </tr>\n",
              "    <tr>\n",
              "      <th>12606</th>\n",
              "      <td>15605</td>\n",
              "      <td>50</td>\n",
              "      <td>False</td>\n",
              "    </tr>\n",
              "    <tr>\n",
              "      <th>12607</th>\n",
              "      <td>15606</td>\n",
              "      <td>113</td>\n",
              "      <td>False</td>\n",
              "    </tr>\n",
              "    <tr>\n",
              "      <th>12608</th>\n",
              "      <td>15608</td>\n",
              "      <td>55</td>\n",
              "      <td>False</td>\n",
              "    </tr>\n",
              "    <tr>\n",
              "      <th>12609</th>\n",
              "      <td>15609</td>\n",
              "      <td>150</td>\n",
              "      <td>True</td>\n",
              "    </tr>\n",
              "    <tr>\n",
              "      <th>12610</th>\n",
              "      <td>15610</td>\n",
              "      <td>132</td>\n",
              "      <td>True</td>\n",
              "    </tr>\n",
              "  </tbody>\n",
              "</table>\n",
              "<p>12611 rows × 3 columns</p>\n",
              "</div>"
            ],
            "text/plain": [
              "          id  boneage   male\n",
              "0       1377      180  False\n",
              "1       1378       12  False\n",
              "2       1379       94  False\n",
              "3       1380      120   True\n",
              "4       1381       82  False\n",
              "...      ...      ...    ...\n",
              "12606  15605       50  False\n",
              "12607  15606      113  False\n",
              "12608  15608       55  False\n",
              "12609  15609      150   True\n",
              "12610  15610      132   True\n",
              "\n",
              "[12611 rows x 3 columns]"
            ]
          },
          "metadata": {
            "tags": []
          },
          "execution_count": 29
        }
      ]
    },
    {
      "cell_type": "code",
      "metadata": {
        "id": "mVBChC4aQSC0",
        "outputId": "ddd7b638-7366-4af4-e221-c7eb1035e7da",
        "colab": {
          "base_uri": "https://localhost:8080/"
        }
      },
      "source": [
        "print(df_raw.head(6))"
      ],
      "execution_count": null,
      "outputs": [
        {
          "output_type": "stream",
          "text": [
            "     id  boneage   male\n",
            "0  1377      180  False\n",
            "1  1378       12  False\n",
            "2  1379       94  False\n",
            "3  1380      120   True\n",
            "4  1381       82  False\n",
            "5  1382      138   True\n"
          ],
          "name": "stdout"
        }
      ]
    },
    {
      "cell_type": "code",
      "metadata": {
        "id": "kT34TSbCQkHl",
        "outputId": "548afb74-1fc0-4e0e-e06e-19b90fef0b23",
        "colab": {
          "base_uri": "https://localhost:8080/"
        }
      },
      "source": [
        "print(df_raw['boneage'][5])"
      ],
      "execution_count": null,
      "outputs": [
        {
          "output_type": "stream",
          "text": [
            "138\n"
          ],
          "name": "stdout"
        }
      ]
    },
    {
      "cell_type": "code",
      "metadata": {
        "id": "OFOCTSmMXCvz"
      },
      "source": [
        "import csv\n",
        "from collections import defaultdict"
      ],
      "execution_count": null,
      "outputs": []
    },
    {
      "cell_type": "code",
      "metadata": {
        "id": "G1iM7gsqWUCW"
      },
      "source": [
        "# seperarting every coloum in a seperated list \n",
        "id_train = []\n",
        "boneage_train = []\n",
        "male_train = []\n",
        "with open('boneage-training-dataset.csv', 'r') as f:\n",
        "    reader = csv.reader(f, delimiter=',')\n",
        "    for row in reader:\n",
        "        id_train.append(row[0])\n",
        "        boneage_train.append(row[1])\n",
        "        male_train.append(row[2])"
      ],
      "execution_count": null,
      "outputs": []
    },
    {
      "cell_type": "code",
      "metadata": {
        "id": "O6RPznolXKjL"
      },
      "source": [
        "#removing every True value in male list and convert it 1 and false value to 0\n",
        "for i in range (len(male_train)) :\n",
        "  if male_train[i]=='True': male_train[i]=1\n",
        "  else: male_train [i] = 0 \n"
      ],
      "execution_count": null,
      "outputs": []
    },
    {
      "cell_type": "code",
      "metadata": {
        "id": "i7MjGiG_6I_Z",
        "outputId": "f5380683-0489-4016-d8db-fc77506ba9a2",
        "colab": {
          "base_uri": "https://localhost:8080/",
          "height": 36
        }
      },
      "source": [
        "#removing head titles from lists \n",
        "id_train.pop(0);male_train.pop(0);boneage_train.pop(0)"
      ],
      "execution_count": null,
      "outputs": [
        {
          "output_type": "execute_result",
          "data": {
            "application/vnd.google.colaboratory.intrinsic+json": {
              "type": "string"
            },
            "text/plain": [
              "'boneage'"
            ]
          },
          "metadata": {
            "tags": []
          },
          "execution_count": 13
        }
      ]
    },
    {
      "cell_type": "code",
      "metadata": {
        "id": "5tRfo-_iPjgA"
      },
      "source": [
        "import os\n",
        "training_data_dir ='/content/boneage-training-dataset/boneage-training-dataset'\n",
        "training_data_list = (os.listdir(training_data_dir)) #get training imgs names in a list \n",
        "training_data_list.sort() #when u get them in a list ,they r not sorted so u need to sort it "
      ],
      "execution_count": null,
      "outputs": []
    },
    {
      "cell_type": "markdown",
      "metadata": {
        "id": "EBOxNdAAwTTq"
      },
      "source": [
        "#preparing evaluation data "
      ]
    },
    {
      "cell_type": "code",
      "metadata": {
        "id": "UQUxwaiGP1p_"
      },
      "source": [
        "os.mkdir('/content/valdation')\n",
        "os.mkdir('/content/valdation/val_img')\n",
        "#os.mkdir('/content/valdation/val_labels')"
      ],
      "execution_count": null,
      "outputs": []
    },
    {
      "cell_type": "code",
      "metadata": {
        "id": "GINko4a5N2oC"
      },
      "source": [
        "import shutil\n",
        "for val in range (1200):\n",
        "  shutil.move(f'/content/boneage-training-dataset/boneage-training-dataset/{training_data_list[val]}','/content/valdation/val_img')"
      ],
      "execution_count": null,
      "outputs": []
    },
    {
      "cell_type": "code",
      "metadata": {
        "id": "22rRyCA3Cduq",
        "outputId": "46da2549-501e-49d5-8ac1-b59396a4272b",
        "colab": {
          "base_uri": "https://localhost:8080/"
        }
      },
      "source": [
        "validation_list= os.listdir('/content/valdation/val_img')\n",
        "print(len(validation_list))"
      ],
      "execution_count": null,
      "outputs": [
        {
          "output_type": "stream",
          "text": [
            "1200\n"
          ],
          "name": "stdout"
        }
      ]
    },
    {
      "cell_type": "code",
      "metadata": {
        "id": "PI_vriA3Tms5"
      },
      "source": [
        "#preparing evaluation lists for every coloum\n",
        "id_val=[]\n",
        "male_val=[]\n",
        "boneage_val=[]\n",
        "for i in range (1200):\n",
        "  id_val.append( id_train[i]) \n",
        "  male_val.append(male_train[i])\n",
        "  boneage_val.append(boneage_train[i])\n"
      ],
      "execution_count": null,
      "outputs": []
    },
    {
      "cell_type": "code",
      "metadata": {
        "id": "lvvGRj5BVnUE",
        "outputId": "31c47b10-31cf-4873-f385-e64c852d377e",
        "colab": {
          "base_uri": "https://localhost:8080/"
        }
      },
      "source": [
        "print(len(id_val))\n",
        "print(len(boneage_val))\n",
        "print(len(male_val))"
      ],
      "execution_count": null,
      "outputs": [
        {
          "output_type": "stream",
          "text": [
            "1200\n",
            "1200\n",
            "1200\n"
          ],
          "name": "stdout"
        }
      ]
    },
    {
      "cell_type": "code",
      "metadata": {
        "id": "Ua6zde9CTClv",
        "outputId": "4f8a57ed-1730-4e81-f6b0-67de0d19b293",
        "colab": {
          "base_uri": "https://localhost:8080/"
        }
      },
      "source": [
        "for i in range (7) :\n",
        "  print(id_val[i],'\\t',male_val[i],'\\t',boneage_val[i])\n"
      ],
      "execution_count": null,
      "outputs": [
        {
          "output_type": "stream",
          "text": [
            "1377 \t 0 \t 180\n",
            "1378 \t 0 \t 12\n",
            "1379 \t 0 \t 94\n",
            "1380 \t 1 \t 120\n",
            "1381 \t 0 \t 82\n",
            "1382 \t 1 \t 138\n",
            "1383 \t 1 \t 150\n"
          ],
          "name": "stdout"
        }
      ]
    },
    {
      "cell_type": "code",
      "metadata": {
        "id": "KY-dd_LAd2OX"
      },
      "source": [
        "del id_train[0:1200]\n",
        "del boneage_train[0:1200]\n",
        "del male_train[0:1200]"
      ],
      "execution_count": null,
      "outputs": []
    },
    {
      "cell_type": "code",
      "metadata": {
        "id": "9G4y31uoRawb",
        "outputId": "68c60ee4-3577-4abf-9274-8bd45294fc4a",
        "colab": {
          "base_uri": "https://localhost:8080/"
        }
      },
      "source": [
        "print(len(training_data_list))\n",
        "print(len(id_train))"
      ],
      "execution_count": null,
      "outputs": [
        {
          "output_type": "stream",
          "text": [
            "12611\n",
            "11411\n"
          ],
          "name": "stdout"
        }
      ]
    },
    {
      "cell_type": "code",
      "metadata": {
        "id": "PHCI978Sdrko",
        "outputId": "e1bf7244-0fe6-4001-8846-21c2bda03dd3",
        "colab": {
          "base_uri": "https://localhost:8080/"
        }
      },
      "source": [
        "print(len(boneage_train))"
      ],
      "execution_count": null,
      "outputs": [
        {
          "output_type": "stream",
          "text": [
            "11411\n"
          ],
          "name": "stdout"
        }
      ]
    },
    {
      "cell_type": "code",
      "metadata": {
        "id": "I4QJd3IlajB9",
        "outputId": "329266a8-6c46-4faf-b2a3-2e6ca1573ec1",
        "colab": {
          "base_uri": "https://localhost:8080/"
        }
      },
      "source": [
        "for i in range (6):\n",
        "  print (male_train[i])"
      ],
      "execution_count": null,
      "outputs": [
        {
          "output_type": "stream",
          "text": [
            "0\n",
            "0\n",
            "1\n",
            "1\n",
            "1\n",
            "0\n"
          ],
          "name": "stdout"
        }
      ]
    },
    {
      "cell_type": "code",
      "metadata": {
        "id": "rRvFLgIDL_jb",
        "outputId": "e3c7405c-1bc5-48bd-ae8e-17a6aec358d7",
        "colab": {
          "base_uri": "https://localhost:8080/"
        }
      },
      "source": [
        "print(len(id_train))"
      ],
      "execution_count": null,
      "outputs": [
        {
          "output_type": "stream",
          "text": [
            "11411\n"
          ],
          "name": "stdout"
        }
      ]
    },
    {
      "cell_type": "code",
      "metadata": {
        "id": "T-vidGnuAgAV"
      },
      "source": [
        "\n",
        "boneage_train = np.array(np.reshape(boneage_train,(-1,)), dtype='float32')\n",
        "male_train = np.array(np.reshape(male_train,(-1,)), dtype='float32')\n",
        "\n",
        "boneage_val = np.array(np.reshape(boneage_val,(-1,)), dtype='float32')\n",
        "male_val = np.array(np.reshape(male_val,(-1,)), dtype='float32')"
      ],
      "execution_count": null,
      "outputs": []
    },
    {
      "cell_type": "code",
      "metadata": {
        "id": "1iZTIzmI7jJG",
        "outputId": "9fa983f7-d836-4963-99d1-299d5483544e",
        "colab": {
          "base_uri": "https://localhost:8080/"
        }
      },
      "source": [
        "print((male_train).shape)"
      ],
      "execution_count": null,
      "outputs": [
        {
          "output_type": "stream",
          "text": [
            "(11411,)\n"
          ],
          "name": "stdout"
        }
      ]
    },
    {
      "cell_type": "code",
      "metadata": {
        "id": "nN_Y9ExZFyZJ"
      },
      "source": [
        "import matplotlib.pyplot as plt"
      ],
      "execution_count": null,
      "outputs": []
    },
    {
      "cell_type": "code",
      "metadata": {
        "id": "EaaOYXxoFige",
        "outputId": "f50796aa-9b2f-46d0-bbe3-05f16d5a05ab",
        "colab": {
          "base_uri": "https://localhost:8080/",
          "height": 313
        }
      },
      "source": [
        "# create a figure and axis\n",
        "fig, ax = plt.subplots()\n",
        "\n",
        "# scatter the boneage against the gender_type\n",
        "ax.scatter(df_raw['boneage'], df_raw['male'])\n",
        "# set a title and labels\n",
        "ax.set_title('boneage prediction Dataset')\n",
        "ax.set_xlabel('boneage')\n",
        "ax.set_ylabel('gender_type')"
      ],
      "execution_count": null,
      "outputs": [
        {
          "output_type": "execute_result",
          "data": {
            "text/plain": [
              "Text(0, 0.5, 'gender_type')"
            ]
          },
          "metadata": {
            "tags": []
          },
          "execution_count": 32
        },
        {
          "output_type": "display_data",
          "data": {
            "image/png": "[encoded data removed]",
            "text/plain": [
              "<Figure size 432x288 with 1 Axes>"
            ]
          },
          "metadata": {
            "tags": [],
            "needs_background": "light"
          }
        }
      ]
    },
    {
      "cell_type": "markdown",
      "metadata": {
        "id": "oEBUnzOMw3aI"
      },
      "source": [
        "#how images data looks like ?"
      ]
    },
    {
      "cell_type": "code",
      "metadata": {
        "id": "k1m7UMrkQlPp",
        "outputId": "e008295b-c6d3-443e-8deb-aa4fac4f6842",
        "colab": {
          "base_uri": "https://localhost:8080/",
          "height": 268
        }
      },
      "source": [
        "#this how the original data looks like \n",
        "img_name= ('/content/boneage-training-dataset/boneage-training-dataset/11356.png')\n",
        "img = Image.open(img_name).convert('RGB')#data is greyscale so we need to convert it to RGB because the model (inception v3) input is 3 channels\n",
        "img = np.array(img.resize((150,150))) \n",
        "img = img.reshape( img.shape[0], img.shape[1],img.shape[2])\n",
        "#img = preprocess_input(img)\n",
        "\n",
        "#img= (np.array(np.reshape(img, (-1, 150, 150, 3)), dtype='float32')/255.0)-0.5\n",
        "img=(np.array(img,dtype='float32')/255)\n",
        "#img=(np.array(img,dtype='float32'))\n",
        "imgplot = plt.imshow(img)\n"
      ],
      "execution_count": null,
      "outputs": [
        {
          "output_type": "display_data",
          "data": {
            "image/png": "[encoded data removed]",
            "text/plain": [
              "<Figure size 432x288 with 1 Axes>"
            ]
          },
          "metadata": {
            "tags": [],
            "needs_background": "light"
          }
        }
      ]
    },
    {
      "cell_type": "code",
      "metadata": {
        "id": "RdfwUpdyZ0ZY",
        "outputId": "b0452550-755a-478a-ace8-63eabde9413a",
        "colab": {
          "base_uri": "https://localhost:8080/",
          "height": 286
        }
      },
      "source": [
        "#this how the data looks like with zero green channel\n",
        "%pylab inline\n",
        "import matplotlib.pyplot as plt\n",
        "import matplotlib.image as mpimg\n",
        "for i in range (4) : \n",
        "  value = random.randint(0,500)\n",
        "  img = mpimg.imread(f'/content/boneage-training-dataset/boneage-training-dataset/{training_data_list[value]}')\n",
        "  #lum_img = img[:, :, 0]\n",
        "  imgplot = plt.imshow(img)\n"
      ],
      "execution_count": null,
      "outputs": [
        {
          "output_type": "stream",
          "text": [
            "Populating the interactive namespace from numpy and matplotlib\n"
          ],
          "name": "stdout"
        },
        {
          "output_type": "display_data",
          "data": {
            "image/png": "[encoded data removed]",
            "text/plain": [
              "<Figure size 432x288 with 1 Axes>"
            ]
          },
          "metadata": {
            "tags": [],
            "needs_background": "light"
          }
        }
      ]
    },
    {
      "cell_type": "markdown",
      "metadata": {
        "id": "LU2kZbmazhoI"
      },
      "source": [
        "#**processing image data to get it ready for training**"
      ]
    },
    {
      "cell_type": "code",
      "metadata": {
        "id": "SB2_P7ZqngAZ"
      },
      "source": [
        "# for training data \n",
        "\n",
        "from skimage.transform import resize\n",
        "from keras.applications.inception_v3 import preprocess_input\n",
        "\n",
        "img_size=150 # this is the size which fits in ram size \n",
        "training_data = []\n",
        "\n",
        "training_data_dir ='/content/boneage-training-dataset/boneage-training-dataset'\n",
        "training_data_list = (os.listdir(training_data_dir)) #get training imgs names in a list \n",
        "training_data_list.sort() #when u get them in a list ,they r not sorted so u need to sort it \n",
        "\n",
        "\n",
        "for i in range(len(id_train)):\n",
        "        img_name = f'/content/boneage-training-dataset/boneage-training-dataset/{training_data_list[i]}'\n",
        "        img = Image.open(img_name).convert('RGB')#data is greyscale so we need to convert it to RGB because the model (inception v3) input is 3 channels\n",
        "        img = np.array(img.resize((img_size,img_size)))\n",
        "        img = img.reshape( img.shape[0], img.shape[1],img.shape[2])\n",
        "        #img = preprocess_input(img)\n",
        "        training_data.append(img)\n",
        "\n",
        "training_data = np.array(np.reshape(training_data, (-1, 150, 150, 3)), dtype='float32')/255.0\n",
        "#training_data = (np.array(np.reshape(training_data, (-1, 299, 299, 3)), dtype='float32')/255.0)-0.5"
      ],
      "execution_count": null,
      "outputs": []
    },
    {
      "cell_type": "code",
      "metadata": {
        "id": "yVWzyLL2euDN",
        "outputId": "2b1ba083-0434-44d7-8edb-03d129a27cf8",
        "colab": {
          "base_uri": "https://localhost:8080/",
          "height": 1000
        }
      },
      "source": [
        "#this is how the data looks like after our processing \n",
        "img_namee=training_data[50]\n",
        "print(img_namee)\n",
        "imgplot = plt.imshow(img_namee)"
      ],
      "execution_count": null,
      "outputs": [
        {
          "output_type": "stream",
          "text": [
            "[[[0.13333334 0.13333334 0.13333334]\n",
            "  [0.12941177 0.12941177 0.12941177]\n",
            "  [0.12941177 0.12941177 0.12941177]\n",
            "  ...\n",
            "  [0.13725491 0.13725491 0.13725491]\n",
            "  [0.13725491 0.13725491 0.13725491]\n",
            "  [0.14509805 0.14509805 0.14509805]]\n",
            "\n",
            " [[0.12941177 0.12941177 0.12941177]\n",
            "  [0.1254902  0.1254902  0.1254902 ]\n",
            "  [0.1254902  0.1254902  0.1254902 ]\n",
            "  ...\n",
            "  [0.13333334 0.13333334 0.13333334]\n",
            "  [0.13333334 0.13333334 0.13333334]\n",
            "  [0.14117648 0.14117648 0.14117648]]\n",
            "\n",
            " [[0.1254902  0.1254902  0.1254902 ]\n",
            "  [0.12156863 0.12156863 0.12156863]\n",
            "  [0.12156863 0.12156863 0.12156863]\n",
            "  ...\n",
            "  [0.12941177 0.12941177 0.12941177]\n",
            "  [0.13333334 0.13333334 0.13333334]\n",
            "  [0.14117648 0.14117648 0.14117648]]\n",
            "\n",
            " ...\n",
            "\n",
            " [[0.02352941 0.02352941 0.02352941]\n",
            "  [0.02352941 0.02352941 0.02352941]\n",
            "  [0.02352941 0.02352941 0.02352941]\n",
            "  ...\n",
            "  [0.03529412 0.03529412 0.03529412]\n",
            "  [0.03921569 0.03921569 0.03921569]\n",
            "  [0.04313726 0.04313726 0.04313726]]\n",
            "\n",
            " [[0.02352941 0.02352941 0.02352941]\n",
            "  [0.02352941 0.02352941 0.02352941]\n",
            "  [0.02352941 0.02352941 0.02352941]\n",
            "  ...\n",
            "  [0.03529412 0.03529412 0.03529412]\n",
            "  [0.03921569 0.03921569 0.03921569]\n",
            "  [0.04313726 0.04313726 0.04313726]]\n",
            "\n",
            " [[0.02352941 0.02352941 0.02352941]\n",
            "  [0.02352941 0.02352941 0.02352941]\n",
            "  [0.02352941 0.02352941 0.02352941]\n",
            "  ...\n",
            "  [0.03529412 0.03529412 0.03529412]\n",
            "  [0.03921569 0.03921569 0.03921569]\n",
            "  [0.04313726 0.04313726 0.04313726]]]\n"
          ],
          "name": "stdout"
        },
        {
          "output_type": "display_data",
          "data": {
            "image/png": "[encoded data removed]",
            "text/plain": [
              "<Figure size 432x288 with 1 Axes>"
            ]
          },
          "metadata": {
            "tags": [],
            "needs_background": "light"
          }
        }
      ]
    },
    {
      "cell_type": "code",
      "metadata": {
        "id": "REqo7wTn-Cb0",
        "outputId": "0f6d28b6-4fb6-4e7e-a8ef-729b48ad436d",
        "colab": {
          "base_uri": "https://localhost:8080/",
          "height": 34
        }
      },
      "source": [
        "training_data[0].shape"
      ],
      "execution_count": null,
      "outputs": [
        {
          "output_type": "execute_result",
          "data": {
            "text/plain": [
              "(150, 150, 3)"
            ]
          },
          "metadata": {
            "tags": []
          },
          "execution_count": 87
        }
      ]
    },
    {
      "cell_type": "code",
      "metadata": {
        "id": "pTJmSJKCQ_p_",
        "outputId": "bf9ef109-6b97-4913-b2e6-b21e3e4f5bc6",
        "colab": {
          "base_uri": "https://localhost:8080/",
          "height": 34
        }
      },
      "source": [
        "len(training_data)"
      ],
      "execution_count": null,
      "outputs": [
        {
          "output_type": "execute_result",
          "data": {
            "text/plain": [
              "11411"
            ]
          },
          "metadata": {
            "tags": []
          },
          "execution_count": 88
        }
      ]
    },
    {
      "cell_type": "code",
      "metadata": {
        "id": "BkwK3-XtxauQ"
      },
      "source": [
        "#saving resulted array from processing into csv to be easy to reload\n",
        "np.save(f'/content/drive/My Drive/Projects/bone_age_prediction/images_in_np_array_to_csv/training_{training_size}', training_data)"
      ],
      "execution_count": null,
      "outputs": []
    },
    {
      "cell_type": "code",
      "metadata": {
        "id": "NMya4PGC0dTd"
      },
      "source": [
        "#loading it \n",
        "training_data = np.load(f'/content/drive/My Drive/Projects/bone_age_prediction/images_in_np_array_to_csv/training_{training_size}')"
      ],
      "execution_count": null,
      "outputs": []
    },
    {
      "cell_type": "code",
      "metadata": {
        "id": "11I5bi3F11bD"
      },
      "source": [
        "#doing the same processing for validation data \n",
        "from keras.applications.inception_v3 import preprocess_input\n",
        "img_size=150\n",
        "validation_data = []\n",
        "\n",
        "validation_data_dir ='/content/valdation/val_img'\n",
        "validation_data_list = (os.listdir(validation_data_dir))\n",
        "validation_data_list.sort()\n",
        "\n",
        "for i in range(len(id_val)):\n",
        "        img_name = f'/content/valdation/val_img/{validation_data_list[i]}'\n",
        "        img = Image.open(img_name).convert('RGB')\n",
        "        img = np.array(img.resize((img_size,img_size)))\n",
        "        img = img.reshape((img.shape[0], img.shape[1],img.shape[2]))\n",
        "        #img = preprocess_input(img)\n",
        "        validation_data.append(img)\n",
        "\n",
        "validation_data = np.array(np.reshape(validation_data, (-1, 150, 150, 3)), dtype='float32')/255.0\n",
        "#validation_data = (np.array(np.reshape(validation_data, (-1, 299, 299, 3)), dtype='float32')/255.0)-0.5"
      ],
      "execution_count": null,
      "outputs": []
    },
    {
      "cell_type": "code",
      "metadata": {
        "id": "n4BAq5K0yyi6"
      },
      "source": [
        "np.save('/content/drive/My Drive/Projects/bone_age_prediction/images_in_np_array_to_csv/validation_data', validation_data)"
      ],
      "execution_count": null,
      "outputs": []
    },
    {
      "cell_type": "code",
      "metadata": {
        "id": "wqS1ECnI0KA0"
      },
      "source": [
        "validation_data = np.load('/content/drive/My Drive/Projects/bone_age_prediction/images_in_np_array_to_csv/validation_data')"
      ],
      "execution_count": null,
      "outputs": []
    },
    {
      "cell_type": "code",
      "metadata": {
        "id": "JwOGZkTVMr6S",
        "outputId": "6547b8d2-e448-443e-8132-1ba4ce537689",
        "colab": {
          "base_uri": "https://localhost:8080/",
          "height": 34
        }
      },
      "source": [
        "validation_data[0].shape"
      ],
      "execution_count": null,
      "outputs": [
        {
          "output_type": "execute_result",
          "data": {
            "text/plain": [
              "(150, 150, 3)"
            ]
          },
          "metadata": {
            "tags": []
          },
          "execution_count": 38
        }
      ]
    },
    {
      "cell_type": "code",
      "metadata": {
        "id": "ZhvLGRT_qvt9",
        "outputId": "fba0af32-61a8-433e-93c2-bf72b3de8d21",
        "colab": {
          "base_uri": "https://localhost:8080/",
          "height": 34
        }
      },
      "source": [
        "len(validation_data)"
      ],
      "execution_count": null,
      "outputs": [
        {
          "output_type": "execute_result",
          "data": {
            "text/plain": [
              "1200"
            ]
          },
          "metadata": {
            "tags": []
          },
          "execution_count": 39
        }
      ]
    },
    {
      "cell_type": "markdown",
      "metadata": {
        "id": "4SNH-omX0OX0"
      },
      "source": [
        "#**working on model with two inputs (gender and image data)**"
      ]
    },
    {
      "cell_type": "markdown",
      "metadata": {
        "id": "rB_a1BeY7lqi"
      },
      "source": [
        "![architecture.png](data:image/png;base64,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)"
      ]
    },
    {
      "cell_type": "code",
      "metadata": {
        "id": "ImdJ_mi7QmQf"
      },
      "source": [
        "i1 = Input(shape=(150,150,3), name='input_img')\n",
        "i2 = Input(shape=(1,), name='input_gender')\n",
        "base_model = InceptionV3(input_tensor=i1, input_shape=(150, 150, 3), include_top=False, weights=None)\n",
        "feature_image = base_model.output\n",
        "feature_image = GlobalAveragePooling2D()(feature_image)\n",
        "feature_image = Flatten()(feature_image)\n",
        "feature_gender = Dense (32,activation='relu') (i2)\n",
        "feature = concatenate([feature_image, feature_gender], axis=1)\n",
        "o = Dense ( 1000, activation='relu') (feature)\n",
        "o = Dense (1000,activation='relu') (o)\n",
        "o = Dense(1,activation='relu')(o)\n",
        "\n",
        "model = Model(inputs=[i1,i2],outputs=o) \n",
        "optimizer = Adam(lr=0.001, beta_1=0.9, beta_2=0.999, epsilon=1e-08, decay=0.0)\n",
        "model.compile(loss='mean_absolute_error',optimizer=optimizer,metrics = ['accuracy'] )\n"
      ],
      "execution_count": null,
      "outputs": []
    },
    {
      "cell_type": "code",
      "metadata": {
        "id": "iQw2iji5MXYa",
        "outputId": "a5d798db-36c3-4f50-ecc7-aa2e95be92df",
        "colab": {
          "base_uri": "https://localhost:8080/",
          "height": 1000
        }
      },
      "source": [
        "model.summary()"
      ],
      "execution_count": null,
      "outputs": [
        {
          "output_type": "stream",
          "text": [
            "Model: \"functional_3\"\n",
            "__________________________________________________________________________________________________\n",
            "Layer (type)                    Output Shape         Param #     Connected to                     \n",
            "==================================================================================================\n",
            "input_img (InputLayer)          [(None, 150, 150, 3) 0                                            \n",
            "__________________________________________________________________________________________________\n",
            "conv2d_188 (Conv2D)             (None, 74, 74, 32)   864         input_img[0][0]                  \n",
            "__________________________________________________________________________________________________\n",
            "batch_normalization_188 (BatchN (None, 74, 74, 32)   96          conv2d_188[0][0]                 \n",
            "__________________________________________________________________________________________________\n",
            "activation_188 (Activation)     (None, 74, 74, 32)   0           batch_normalization_188[0][0]    \n",
            "__________________________________________________________________________________________________\n",
            "conv2d_189 (Conv2D)             (None, 72, 72, 32)   9216        activation_188[0][0]             \n",
            "__________________________________________________________________________________________________\n",
            "batch_normalization_189 (BatchN (None, 72, 72, 32)   96          conv2d_189[0][0]                 \n",
            "__________________________________________________________________________________________________\n",
            "activation_189 (Activation)     (None, 72, 72, 32)   0           batch_normalization_189[0][0]    \n",
            "__________________________________________________________________________________________________\n",
            "conv2d_190 (Conv2D)             (None, 72, 72, 64)   18432       activation_189[0][0]             \n",
            "__________________________________________________________________________________________________\n",
            "batch_normalization_190 (BatchN (None, 72, 72, 64)   192         conv2d_190[0][0]                 \n",
            "__________________________________________________________________________________________________\n",
            "activation_190 (Activation)     (None, 72, 72, 64)   0           batch_normalization_190[0][0]    \n",
            "__________________________________________________________________________________________________\n",
            "max_pooling2d_8 (MaxPooling2D)  (None, 35, 35, 64)   0           activation_190[0][0]             \n",
            "__________________________________________________________________________________________________\n",
            "conv2d_191 (Conv2D)             (None, 35, 35, 80)   5120        max_pooling2d_8[0][0]            \n",
            "__________________________________________________________________________________________________\n",
            "batch_normalization_191 (BatchN (None, 35, 35, 80)   240         conv2d_191[0][0]                 \n",
            "__________________________________________________________________________________________________\n",
            "activation_191 (Activation)     (None, 35, 35, 80)   0           batch_normalization_191[0][0]    \n",
            "__________________________________________________________________________________________________\n",
            "conv2d_192 (Conv2D)             (None, 33, 33, 192)  138240      activation_191[0][0]             \n",
            "__________________________________________________________________________________________________\n",
            "batch_normalization_192 (BatchN (None, 33, 33, 192)  576         conv2d_192[0][0]                 \n",
            "__________________________________________________________________________________________________\n",
            "activation_192 (Activation)     (None, 33, 33, 192)  0           batch_normalization_192[0][0]    \n",
            "__________________________________________________________________________________________________\n",
            "max_pooling2d_9 (MaxPooling2D)  (None, 16, 16, 192)  0           activation_192[0][0]             \n",
            "__________________________________________________________________________________________________\n",
            "conv2d_196 (Conv2D)             (None, 16, 16, 64)   12288       max_pooling2d_9[0][0]            \n",
            "__________________________________________________________________________________________________\n",
            "batch_normalization_196 (BatchN (None, 16, 16, 64)   192         conv2d_196[0][0]                 \n",
            "__________________________________________________________________________________________________\n",
            "activation_196 (Activation)     (None, 16, 16, 64)   0           batch_normalization_196[0][0]    \n",
            "__________________________________________________________________________________________________\n",
            "conv2d_194 (Conv2D)             (None, 16, 16, 48)   9216        max_pooling2d_9[0][0]            \n",
            "__________________________________________________________________________________________________\n",
            "conv2d_197 (Conv2D)             (None, 16, 16, 96)   55296       activation_196[0][0]             \n",
            "__________________________________________________________________________________________________\n",
            "batch_normalization_194 (BatchN (None, 16, 16, 48)   144         conv2d_194[0][0]                 \n",
            "__________________________________________________________________________________________________\n",
            "batch_normalization_197 (BatchN (None, 16, 16, 96)   288         conv2d_197[0][0]                 \n",
            "__________________________________________________________________________________________________\n",
            "activation_194 (Activation)     (None, 16, 16, 48)   0           batch_normalization_194[0][0]    \n",
            "__________________________________________________________________________________________________\n",
            "activation_197 (Activation)     (None, 16, 16, 96)   0           batch_normalization_197[0][0]    \n",
            "__________________________________________________________________________________________________\n",
            "average_pooling2d_18 (AveragePo (None, 16, 16, 192)  0           max_pooling2d_9[0][0]            \n",
            "__________________________________________________________________________________________________\n",
            "conv2d_193 (Conv2D)             (None, 16, 16, 64)   12288       max_pooling2d_9[0][0]            \n",
            "__________________________________________________________________________________________________\n",
            "conv2d_195 (Conv2D)             (None, 16, 16, 64)   76800       activation_194[0][0]             \n",
            "__________________________________________________________________________________________________\n",
            "conv2d_198 (Conv2D)             (None, 16, 16, 96)   82944       activation_197[0][0]             \n",
            "__________________________________________________________________________________________________\n",
            "conv2d_199 (Conv2D)             (None, 16, 16, 32)   6144        average_pooling2d_18[0][0]       \n",
            "__________________________________________________________________________________________________\n",
            "batch_normalization_193 (BatchN (None, 16, 16, 64)   192         conv2d_193[0][0]                 \n",
            "__________________________________________________________________________________________________\n",
            "batch_normalization_195 (BatchN (None, 16, 16, 64)   192         conv2d_195[0][0]                 \n",
            "__________________________________________________________________________________________________\n",
            "batch_normalization_198 (BatchN (None, 16, 16, 96)   288         conv2d_198[0][0]                 \n",
            "__________________________________________________________________________________________________\n",
            "batch_normalization_199 (BatchN (None, 16, 16, 32)   96          conv2d_199[0][0]                 \n",
            "__________________________________________________________________________________________________\n",
            "activation_193 (Activation)     (None, 16, 16, 64)   0           batch_normalization_193[0][0]    \n",
            "__________________________________________________________________________________________________\n",
            "activation_195 (Activation)     (None, 16, 16, 64)   0           batch_normalization_195[0][0]    \n",
            "__________________________________________________________________________________________________\n",
            "activation_198 (Activation)     (None, 16, 16, 96)   0           batch_normalization_198[0][0]    \n",
            "__________________________________________________________________________________________________\n",
            "activation_199 (Activation)     (None, 16, 16, 32)   0           batch_normalization_199[0][0]    \n",
            "__________________________________________________________________________________________________\n",
            "mixed0 (Concatenate)            (None, 16, 16, 256)  0           activation_193[0][0]             \n",
            "                                                                 activation_195[0][0]             \n",
            "                                                                 activation_198[0][0]             \n",
            "                                                                 activation_199[0][0]             \n",
            "__________________________________________________________________________________________________\n",
            "conv2d_203 (Conv2D)             (None, 16, 16, 64)   16384       mixed0[0][0]                     \n",
            "__________________________________________________________________________________________________\n",
            "batch_normalization_203 (BatchN (None, 16, 16, 64)   192         conv2d_203[0][0]                 \n",
            "__________________________________________________________________________________________________\n",
            "activation_203 (Activation)     (None, 16, 16, 64)   0           batch_normalization_203[0][0]    \n",
            "__________________________________________________________________________________________________\n",
            "conv2d_201 (Conv2D)             (None, 16, 16, 48)   12288       mixed0[0][0]                     \n",
            "__________________________________________________________________________________________________\n",
            "conv2d_204 (Conv2D)             (None, 16, 16, 96)   55296       activation_203[0][0]             \n",
            "__________________________________________________________________________________________________\n",
            "batch_normalization_201 (BatchN (None, 16, 16, 48)   144         conv2d_201[0][0]                 \n",
            "__________________________________________________________________________________________________\n",
            "batch_normalization_204 (BatchN (None, 16, 16, 96)   288         conv2d_204[0][0]                 \n",
            "__________________________________________________________________________________________________\n",
            "activation_201 (Activation)     (None, 16, 16, 48)   0           batch_normalization_201[0][0]    \n",
            "__________________________________________________________________________________________________\n",
            "activation_204 (Activation)     (None, 16, 16, 96)   0           batch_normalization_204[0][0]    \n",
            "__________________________________________________________________________________________________\n",
            "average_pooling2d_19 (AveragePo (None, 16, 16, 256)  0           mixed0[0][0]                     \n",
            "__________________________________________________________________________________________________\n",
            "conv2d_200 (Conv2D)             (None, 16, 16, 64)   16384       mixed0[0][0]                     \n",
            "__________________________________________________________________________________________________\n",
            "conv2d_202 (Conv2D)             (None, 16, 16, 64)   76800       activation_201[0][0]             \n",
            "__________________________________________________________________________________________________\n",
            "conv2d_205 (Conv2D)             (None, 16, 16, 96)   82944       activation_204[0][0]             \n",
            "__________________________________________________________________________________________________\n",
            "conv2d_206 (Conv2D)             (None, 16, 16, 64)   16384       average_pooling2d_19[0][0]       \n",
            "__________________________________________________________________________________________________\n",
            "batch_normalization_200 (BatchN (None, 16, 16, 64)   192         conv2d_200[0][0]                 \n",
            "__________________________________________________________________________________________________\n",
            "batch_normalization_202 (BatchN (None, 16, 16, 64)   192         conv2d_202[0][0]                 \n",
            "__________________________________________________________________________________________________\n",
            "batch_normalization_205 (BatchN (None, 16, 16, 96)   288         conv2d_205[0][0]                 \n",
            "__________________________________________________________________________________________________\n",
            "batch_normalization_206 (BatchN (None, 16, 16, 64)   192         conv2d_206[0][0]                 \n",
            "__________________________________________________________________________________________________\n",
            "activation_200 (Activation)     (None, 16, 16, 64)   0           batch_normalization_200[0][0]    \n",
            "__________________________________________________________________________________________________\n",
            "activation_202 (Activation)     (None, 16, 16, 64)   0           batch_normalization_202[0][0]    \n",
            "__________________________________________________________________________________________________\n",
            "activation_205 (Activation)     (None, 16, 16, 96)   0           batch_normalization_205[0][0]    \n",
            "__________________________________________________________________________________________________\n",
            "activation_206 (Activation)     (None, 16, 16, 64)   0           batch_normalization_206[0][0]    \n",
            "__________________________________________________________________________________________________\n",
            "mixed1 (Concatenate)            (None, 16, 16, 288)  0           activation_200[0][0]             \n",
            "                                                                 activation_202[0][0]             \n",
            "                                                                 activation_205[0][0]             \n",
            "                                                                 activation_206[0][0]             \n",
            "__________________________________________________________________________________________________\n",
            "conv2d_210 (Conv2D)             (None, 16, 16, 64)   18432       mixed1[0][0]                     \n",
            "__________________________________________________________________________________________________\n",
            "batch_normalization_210 (BatchN (None, 16, 16, 64)   192         conv2d_210[0][0]                 \n",
            "__________________________________________________________________________________________________\n",
            "activation_210 (Activation)     (None, 16, 16, 64)   0           batch_normalization_210[0][0]    \n",
            "__________________________________________________________________________________________________\n",
            "conv2d_208 (Conv2D)             (None, 16, 16, 48)   13824       mixed1[0][0]                     \n",
            "__________________________________________________________________________________________________\n",
            "conv2d_211 (Conv2D)             (None, 16, 16, 96)   55296       activation_210[0][0]             \n",
            "__________________________________________________________________________________________________\n",
            "batch_normalization_208 (BatchN (None, 16, 16, 48)   144         conv2d_208[0][0]                 \n",
            "__________________________________________________________________________________________________\n",
            "batch_normalization_211 (BatchN (None, 16, 16, 96)   288         conv2d_211[0][0]                 \n",
            "__________________________________________________________________________________________________\n",
            "activation_208 (Activation)     (None, 16, 16, 48)   0           batch_normalization_208[0][0]    \n",
            "__________________________________________________________________________________________________\n",
            "activation_211 (Activation)     (None, 16, 16, 96)   0           batch_normalization_211[0][0]    \n",
            "__________________________________________________________________________________________________\n",
            "average_pooling2d_20 (AveragePo (None, 16, 16, 288)  0           mixed1[0][0]                     \n",
            "__________________________________________________________________________________________________\n",
            "conv2d_207 (Conv2D)             (None, 16, 16, 64)   18432       mixed1[0][0]                     \n",
            "__________________________________________________________________________________________________\n",
            "conv2d_209 (Conv2D)             (None, 16, 16, 64)   76800       activation_208[0][0]             \n",
            "__________________________________________________________________________________________________\n",
            "conv2d_212 (Conv2D)             (None, 16, 16, 96)   82944       activation_211[0][0]             \n",
            "__________________________________________________________________________________________________\n",
            "conv2d_213 (Conv2D)             (None, 16, 16, 64)   18432       average_pooling2d_20[0][0]       \n",
            "__________________________________________________________________________________________________\n",
            "batch_normalization_207 (BatchN (None, 16, 16, 64)   192         conv2d_207[0][0]                 \n",
            "__________________________________________________________________________________________________\n",
            "batch_normalization_209 (BatchN (None, 16, 16, 64)   192         conv2d_209[0][0]                 \n",
            "__________________________________________________________________________________________________\n",
            "batch_normalization_212 (BatchN (None, 16, 16, 96)   288         conv2d_212[0][0]                 \n",
            "__________________________________________________________________________________________________\n",
            "batch_normalization_213 (BatchN (None, 16, 16, 64)   192         conv2d_213[0][0]                 \n",
            "__________________________________________________________________________________________________\n",
            "activation_207 (Activation)     (None, 16, 16, 64)   0           batch_normalization_207[0][0]    \n",
            "__________________________________________________________________________________________________\n",
            "activation_209 (Activation)     (None, 16, 16, 64)   0           batch_normalization_209[0][0]    \n",
            "__________________________________________________________________________________________________\n",
            "activation_212 (Activation)     (None, 16, 16, 96)   0           batch_normalization_212[0][0]    \n",
            "__________________________________________________________________________________________________\n",
            "activation_213 (Activation)     (None, 16, 16, 64)   0           batch_normalization_213[0][0]    \n",
            "__________________________________________________________________________________________________\n",
            "mixed2 (Concatenate)            (None, 16, 16, 288)  0           activation_207[0][0]             \n",
            "                                                                 activation_209[0][0]             \n",
            "                                                                 activation_212[0][0]             \n",
            "                                                                 activation_213[0][0]             \n",
            "__________________________________________________________________________________________________\n",
            "conv2d_215 (Conv2D)             (None, 16, 16, 64)   18432       mixed2[0][0]                     \n",
            "__________________________________________________________________________________________________\n",
            "batch_normalization_215 (BatchN (None, 16, 16, 64)   192         conv2d_215[0][0]                 \n",
            "__________________________________________________________________________________________________\n",
            "activation_215 (Activation)     (None, 16, 16, 64)   0           batch_normalization_215[0][0]    \n",
            "__________________________________________________________________________________________________\n",
            "conv2d_216 (Conv2D)             (None, 16, 16, 96)   55296       activation_215[0][0]             \n",
            "__________________________________________________________________________________________________\n",
            "batch_normalization_216 (BatchN (None, 16, 16, 96)   288         conv2d_216[0][0]                 \n",
            "__________________________________________________________________________________________________\n",
            "activation_216 (Activation)     (None, 16, 16, 96)   0           batch_normalization_216[0][0]    \n",
            "__________________________________________________________________________________________________\n",
            "conv2d_214 (Conv2D)             (None, 7, 7, 384)    995328      mixed2[0][0]                     \n",
            "__________________________________________________________________________________________________\n",
            "conv2d_217 (Conv2D)             (None, 7, 7, 96)     82944       activation_216[0][0]             \n",
            "__________________________________________________________________________________________________\n",
            "batch_normalization_214 (BatchN (None, 7, 7, 384)    1152        conv2d_214[0][0]                 \n",
            "__________________________________________________________________________________________________\n",
            "batch_normalization_217 (BatchN (None, 7, 7, 96)     288         conv2d_217[0][0]                 \n",
            "__________________________________________________________________________________________________\n",
            "activation_214 (Activation)     (None, 7, 7, 384)    0           batch_normalization_214[0][0]    \n",
            "__________________________________________________________________________________________________\n",
            "activation_217 (Activation)     (None, 7, 7, 96)     0           batch_normalization_217[0][0]    \n",
            "__________________________________________________________________________________________________\n",
            "max_pooling2d_10 (MaxPooling2D) (None, 7, 7, 288)    0           mixed2[0][0]                     \n",
            "__________________________________________________________________________________________________\n",
            "mixed3 (Concatenate)            (None, 7, 7, 768)    0           activation_214[0][0]             \n",
            "                                                                 activation_217[0][0]             \n",
            "                                                                 max_pooling2d_10[0][0]           \n",
            "__________________________________________________________________________________________________\n",
            "conv2d_222 (Conv2D)             (None, 7, 7, 128)    98304       mixed3[0][0]                     \n",
            "__________________________________________________________________________________________________\n",
            "batch_normalization_222 (BatchN (None, 7, 7, 128)    384         conv2d_222[0][0]                 \n",
            "__________________________________________________________________________________________________\n",
            "activation_222 (Activation)     (None, 7, 7, 128)    0           batch_normalization_222[0][0]    \n",
            "__________________________________________________________________________________________________\n",
            "conv2d_223 (Conv2D)             (None, 7, 7, 128)    114688      activation_222[0][0]             \n",
            "__________________________________________________________________________________________________\n",
            "batch_normalization_223 (BatchN (None, 7, 7, 128)    384         conv2d_223[0][0]                 \n",
            "__________________________________________________________________________________________________\n",
            "activation_223 (Activation)     (None, 7, 7, 128)    0           batch_normalization_223[0][0]    \n",
            "__________________________________________________________________________________________________\n",
            "conv2d_219 (Conv2D)             (None, 7, 7, 128)    98304       mixed3[0][0]                     \n",
            "__________________________________________________________________________________________________\n",
            "conv2d_224 (Conv2D)             (None, 7, 7, 128)    114688      activation_223[0][0]             \n",
            "__________________________________________________________________________________________________\n",
            "batch_normalization_219 (BatchN (None, 7, 7, 128)    384         conv2d_219[0][0]                 \n",
            "__________________________________________________________________________________________________\n",
            "batch_normalization_224 (BatchN (None, 7, 7, 128)    384         conv2d_224[0][0]                 \n",
            "__________________________________________________________________________________________________\n",
            "activation_219 (Activation)     (None, 7, 7, 128)    0           batch_normalization_219[0][0]    \n",
            "__________________________________________________________________________________________________\n",
            "activation_224 (Activation)     (None, 7, 7, 128)    0           batch_normalization_224[0][0]    \n",
            "__________________________________________________________________________________________________\n",
            "conv2d_220 (Conv2D)             (None, 7, 7, 128)    114688      activation_219[0][0]             \n",
            "__________________________________________________________________________________________________\n",
            "conv2d_225 (Conv2D)             (None, 7, 7, 128)    114688      activation_224[0][0]             \n",
            "__________________________________________________________________________________________________\n",
            "batch_normalization_220 (BatchN (None, 7, 7, 128)    384         conv2d_220[0][0]                 \n",
            "__________________________________________________________________________________________________\n",
            "batch_normalization_225 (BatchN (None, 7, 7, 128)    384         conv2d_225[0][0]                 \n",
            "__________________________________________________________________________________________________\n",
            "activation_220 (Activation)     (None, 7, 7, 128)    0           batch_normalization_220[0][0]    \n",
            "__________________________________________________________________________________________________\n",
            "activation_225 (Activation)     (None, 7, 7, 128)    0           batch_normalization_225[0][0]    \n",
            "__________________________________________________________________________________________________\n",
            "average_pooling2d_21 (AveragePo (None, 7, 7, 768)    0           mixed3[0][0]                     \n",
            "__________________________________________________________________________________________________\n",
            "conv2d_218 (Conv2D)             (None, 7, 7, 192)    147456      mixed3[0][0]                     \n",
            "__________________________________________________________________________________________________\n",
            "conv2d_221 (Conv2D)             (None, 7, 7, 192)    172032      activation_220[0][0]             \n",
            "__________________________________________________________________________________________________\n",
            "conv2d_226 (Conv2D)             (None, 7, 7, 192)    172032      activation_225[0][0]             \n",
            "__________________________________________________________________________________________________\n",
            "conv2d_227 (Conv2D)             (None, 7, 7, 192)    147456      average_pooling2d_21[0][0]       \n",
            "__________________________________________________________________________________________________\n",
            "batch_normalization_218 (BatchN (None, 7, 7, 192)    576         conv2d_218[0][0]                 \n",
            "__________________________________________________________________________________________________\n",
            "batch_normalization_221 (BatchN (None, 7, 7, 192)    576         conv2d_221[0][0]                 \n",
            "__________________________________________________________________________________________________\n",
            "batch_normalization_226 (BatchN (None, 7, 7, 192)    576         conv2d_226[0][0]                 \n",
            "__________________________________________________________________________________________________\n",
            "batch_normalization_227 (BatchN (None, 7, 7, 192)    576         conv2d_227[0][0]                 \n",
            "__________________________________________________________________________________________________\n",
            "activation_218 (Activation)     (None, 7, 7, 192)    0           batch_normalization_218[0][0]    \n",
            "__________________________________________________________________________________________________\n",
            "activation_221 (Activation)     (None, 7, 7, 192)    0           batch_normalization_221[0][0]    \n",
            "__________________________________________________________________________________________________\n",
            "activation_226 (Activation)     (None, 7, 7, 192)    0           batch_normalization_226[0][0]    \n",
            "__________________________________________________________________________________________________\n",
            "activation_227 (Activation)     (None, 7, 7, 192)    0           batch_normalization_227[0][0]    \n",
            "__________________________________________________________________________________________________\n",
            "mixed4 (Concatenate)            (None, 7, 7, 768)    0           activation_218[0][0]             \n",
            "                                                                 activation_221[0][0]             \n",
            "                                                                 activation_226[0][0]             \n",
            "                                                                 activation_227[0][0]             \n",
            "__________________________________________________________________________________________________\n",
            "conv2d_232 (Conv2D)             (None, 7, 7, 160)    122880      mixed4[0][0]                     \n",
            "__________________________________________________________________________________________________\n",
            "batch_normalization_232 (BatchN (None, 7, 7, 160)    480         conv2d_232[0][0]                 \n",
            "__________________________________________________________________________________________________\n",
            "activation_232 (Activation)     (None, 7, 7, 160)    0           batch_normalization_232[0][0]    \n",
            "__________________________________________________________________________________________________\n",
            "conv2d_233 (Conv2D)             (None, 7, 7, 160)    179200      activation_232[0][0]             \n",
            "__________________________________________________________________________________________________\n",
            "batch_normalization_233 (BatchN (None, 7, 7, 160)    480         conv2d_233[0][0]                 \n",
            "__________________________________________________________________________________________________\n",
            "activation_233 (Activation)     (None, 7, 7, 160)    0           batch_normalization_233[0][0]    \n",
            "__________________________________________________________________________________________________\n",
            "conv2d_229 (Conv2D)             (None, 7, 7, 160)    122880      mixed4[0][0]                     \n",
            "__________________________________________________________________________________________________\n",
            "conv2d_234 (Conv2D)             (None, 7, 7, 160)    179200      activation_233[0][0]             \n",
            "__________________________________________________________________________________________________\n",
            "batch_normalization_229 (BatchN (None, 7, 7, 160)    480         conv2d_229[0][0]                 \n",
            "__________________________________________________________________________________________________\n",
            "batch_normalization_234 (BatchN (None, 7, 7, 160)    480         conv2d_234[0][0]                 \n",
            "__________________________________________________________________________________________________\n",
            "activation_229 (Activation)     (None, 7, 7, 160)    0           batch_normalization_229[0][0]    \n",
            "__________________________________________________________________________________________________\n",
            "activation_234 (Activation)     (None, 7, 7, 160)    0           batch_normalization_234[0][0]    \n",
            "__________________________________________________________________________________________________\n",
            "conv2d_230 (Conv2D)             (None, 7, 7, 160)    179200      activation_229[0][0]             \n",
            "__________________________________________________________________________________________________\n",
            "conv2d_235 (Conv2D)             (None, 7, 7, 160)    179200      activation_234[0][0]             \n",
            "__________________________________________________________________________________________________\n",
            "batch_normalization_230 (BatchN (None, 7, 7, 160)    480         conv2d_230[0][0]                 \n",
            "__________________________________________________________________________________________________\n",
            "batch_normalization_235 (BatchN (None, 7, 7, 160)    480         conv2d_235[0][0]                 \n",
            "__________________________________________________________________________________________________\n",
            "activation_230 (Activation)     (None, 7, 7, 160)    0           batch_normalization_230[0][0]    \n",
            "__________________________________________________________________________________________________\n",
            "activation_235 (Activation)     (None, 7, 7, 160)    0           batch_normalization_235[0][0]    \n",
            "__________________________________________________________________________________________________\n",
            "average_pooling2d_22 (AveragePo (None, 7, 7, 768)    0           mixed4[0][0]                     \n",
            "__________________________________________________________________________________________________\n",
            "conv2d_228 (Conv2D)             (None, 7, 7, 192)    147456      mixed4[0][0]                     \n",
            "__________________________________________________________________________________________________\n",
            "conv2d_231 (Conv2D)             (None, 7, 7, 192)    215040      activation_230[0][0]             \n",
            "__________________________________________________________________________________________________\n",
            "conv2d_236 (Conv2D)             (None, 7, 7, 192)    215040      activation_235[0][0]             \n",
            "__________________________________________________________________________________________________\n",
            "conv2d_237 (Conv2D)             (None, 7, 7, 192)    147456      average_pooling2d_22[0][0]       \n",
            "__________________________________________________________________________________________________\n",
            "batch_normalization_228 (BatchN (None, 7, 7, 192)    576         conv2d_228[0][0]                 \n",
            "__________________________________________________________________________________________________\n",
            "batch_normalization_231 (BatchN (None, 7, 7, 192)    576         conv2d_231[0][0]                 \n",
            "__________________________________________________________________________________________________\n",
            "batch_normalization_236 (BatchN (None, 7, 7, 192)    576         conv2d_236[0][0]                 \n",
            "__________________________________________________________________________________________________\n",
            "batch_normalization_237 (BatchN (None, 7, 7, 192)    576         conv2d_237[0][0]                 \n",
            "__________________________________________________________________________________________________\n",
            "activation_228 (Activation)     (None, 7, 7, 192)    0           batch_normalization_228[0][0]    \n",
            "__________________________________________________________________________________________________\n",
            "activation_231 (Activation)     (None, 7, 7, 192)    0           batch_normalization_231[0][0]    \n",
            "__________________________________________________________________________________________________\n",
            "activation_236 (Activation)     (None, 7, 7, 192)    0           batch_normalization_236[0][0]    \n",
            "__________________________________________________________________________________________________\n",
            "activation_237 (Activation)     (None, 7, 7, 192)    0           batch_normalization_237[0][0]    \n",
            "__________________________________________________________________________________________________\n",
            "mixed5 (Concatenate)            (None, 7, 7, 768)    0           activation_228[0][0]             \n",
            "                                                                 activation_231[0][0]             \n",
            "                                                                 activation_236[0][0]             \n",
            "                                                                 activation_237[0][0]             \n",
            "__________________________________________________________________________________________________\n",
            "conv2d_242 (Conv2D)             (None, 7, 7, 160)    122880      mixed5[0][0]                     \n",
            "__________________________________________________________________________________________________\n",
            "batch_normalization_242 (BatchN (None, 7, 7, 160)    480         conv2d_242[0][0]                 \n",
            "__________________________________________________________________________________________________\n",
            "activation_242 (Activation)     (None, 7, 7, 160)    0           batch_normalization_242[0][0]    \n",
            "__________________________________________________________________________________________________\n",
            "conv2d_243 (Conv2D)             (None, 7, 7, 160)    179200      activation_242[0][0]             \n",
            "__________________________________________________________________________________________________\n",
            "batch_normalization_243 (BatchN (None, 7, 7, 160)    480         conv2d_243[0][0]                 \n",
            "__________________________________________________________________________________________________\n",
            "activation_243 (Activation)     (None, 7, 7, 160)    0           batch_normalization_243[0][0]    \n",
            "__________________________________________________________________________________________________\n",
            "conv2d_239 (Conv2D)             (None, 7, 7, 160)    122880      mixed5[0][0]                     \n",
            "__________________________________________________________________________________________________\n",
            "conv2d_244 (Conv2D)             (None, 7, 7, 160)    179200      activation_243[0][0]             \n",
            "__________________________________________________________________________________________________\n",
            "batch_normalization_239 (BatchN (None, 7, 7, 160)    480         conv2d_239[0][0]                 \n",
            "__________________________________________________________________________________________________\n",
            "batch_normalization_244 (BatchN (None, 7, 7, 160)    480         conv2d_244[0][0]                 \n",
            "__________________________________________________________________________________________________\n",
            "activation_239 (Activation)     (None, 7, 7, 160)    0           batch_normalization_239[0][0]    \n",
            "__________________________________________________________________________________________________\n",
            "activation_244 (Activation)     (None, 7, 7, 160)    0           batch_normalization_244[0][0]    \n",
            "__________________________________________________________________________________________________\n",
            "conv2d_240 (Conv2D)             (None, 7, 7, 160)    179200      activation_239[0][0]             \n",
            "__________________________________________________________________________________________________\n",
            "conv2d_245 (Conv2D)             (None, 7, 7, 160)    179200      activation_244[0][0]             \n",
            "__________________________________________________________________________________________________\n",
            "batch_normalization_240 (BatchN (None, 7, 7, 160)    480         conv2d_240[0][0]                 \n",
            "__________________________________________________________________________________________________\n",
            "batch_normalization_245 (BatchN (None, 7, 7, 160)    480         conv2d_245[0][0]                 \n",
            "__________________________________________________________________________________________________\n",
            "activation_240 (Activation)     (None, 7, 7, 160)    0           batch_normalization_240[0][0]    \n",
            "__________________________________________________________________________________________________\n",
            "activation_245 (Activation)     (None, 7, 7, 160)    0           batch_normalization_245[0][0]    \n",
            "__________________________________________________________________________________________________\n",
            "average_pooling2d_23 (AveragePo (None, 7, 7, 768)    0           mixed5[0][0]                     \n",
            "__________________________________________________________________________________________________\n",
            "conv2d_238 (Conv2D)             (None, 7, 7, 192)    147456      mixed5[0][0]                     \n",
            "__________________________________________________________________________________________________\n",
            "conv2d_241 (Conv2D)             (None, 7, 7, 192)    215040      activation_240[0][0]             \n",
            "__________________________________________________________________________________________________\n",
            "conv2d_246 (Conv2D)             (None, 7, 7, 192)    215040      activation_245[0][0]             \n",
            "__________________________________________________________________________________________________\n",
            "conv2d_247 (Conv2D)             (None, 7, 7, 192)    147456      average_pooling2d_23[0][0]       \n",
            "__________________________________________________________________________________________________\n",
            "batch_normalization_238 (BatchN (None, 7, 7, 192)    576         conv2d_238[0][0]                 \n",
            "__________________________________________________________________________________________________\n",
            "batch_normalization_241 (BatchN (None, 7, 7, 192)    576         conv2d_241[0][0]                 \n",
            "__________________________________________________________________________________________________\n",
            "batch_normalization_246 (BatchN (None, 7, 7, 192)    576         conv2d_246[0][0]                 \n",
            "__________________________________________________________________________________________________\n",
            "batch_normalization_247 (BatchN (None, 7, 7, 192)    576         conv2d_247[0][0]                 \n",
            "__________________________________________________________________________________________________\n",
            "activation_238 (Activation)     (None, 7, 7, 192)    0           batch_normalization_238[0][0]    \n",
            "__________________________________________________________________________________________________\n",
            "activation_241 (Activation)     (None, 7, 7, 192)    0           batch_normalization_241[0][0]    \n",
            "__________________________________________________________________________________________________\n",
            "activation_246 (Activation)     (None, 7, 7, 192)    0           batch_normalization_246[0][0]    \n",
            "__________________________________________________________________________________________________\n",
            "activation_247 (Activation)     (None, 7, 7, 192)    0           batch_normalization_247[0][0]    \n",
            "__________________________________________________________________________________________________\n",
            "mixed6 (Concatenate)            (None, 7, 7, 768)    0           activation_238[0][0]             \n",
            "                                                                 activation_241[0][0]             \n",
            "                                                                 activation_246[0][0]             \n",
            "                                                                 activation_247[0][0]             \n",
            "__________________________________________________________________________________________________\n",
            "conv2d_252 (Conv2D)             (None, 7, 7, 192)    147456      mixed6[0][0]                     \n",
            "__________________________________________________________________________________________________\n",
            "batch_normalization_252 (BatchN (None, 7, 7, 192)    576         conv2d_252[0][0]                 \n",
            "__________________________________________________________________________________________________\n",
            "activation_252 (Activation)     (None, 7, 7, 192)    0           batch_normalization_252[0][0]    \n",
            "__________________________________________________________________________________________________\n",
            "conv2d_253 (Conv2D)             (None, 7, 7, 192)    258048      activation_252[0][0]             \n",
            "__________________________________________________________________________________________________\n",
            "batch_normalization_253 (BatchN (None, 7, 7, 192)    576         conv2d_253[0][0]                 \n",
            "__________________________________________________________________________________________________\n",
            "activation_253 (Activation)     (None, 7, 7, 192)    0           batch_normalization_253[0][0]    \n",
            "__________________________________________________________________________________________________\n",
            "conv2d_249 (Conv2D)             (None, 7, 7, 192)    147456      mixed6[0][0]                     \n",
            "__________________________________________________________________________________________________\n",
            "conv2d_254 (Conv2D)             (None, 7, 7, 192)    258048      activation_253[0][0]             \n",
            "__________________________________________________________________________________________________\n",
            "batch_normalization_249 (BatchN (None, 7, 7, 192)    576         conv2d_249[0][0]                 \n",
            "__________________________________________________________________________________________________\n",
            "batch_normalization_254 (BatchN (None, 7, 7, 192)    576         conv2d_254[0][0]                 \n",
            "__________________________________________________________________________________________________\n",
            "activation_249 (Activation)     (None, 7, 7, 192)    0           batch_normalization_249[0][0]    \n",
            "__________________________________________________________________________________________________\n",
            "activation_254 (Activation)     (None, 7, 7, 192)    0           batch_normalization_254[0][0]    \n",
            "__________________________________________________________________________________________________\n",
            "conv2d_250 (Conv2D)             (None, 7, 7, 192)    258048      activation_249[0][0]             \n",
            "__________________________________________________________________________________________________\n",
            "conv2d_255 (Conv2D)             (None, 7, 7, 192)    258048      activation_254[0][0]             \n",
            "__________________________________________________________________________________________________\n",
            "batch_normalization_250 (BatchN (None, 7, 7, 192)    576         conv2d_250[0][0]                 \n",
            "__________________________________________________________________________________________________\n",
            "batch_normalization_255 (BatchN (None, 7, 7, 192)    576         conv2d_255[0][0]                 \n",
            "__________________________________________________________________________________________________\n",
            "activation_250 (Activation)     (None, 7, 7, 192)    0           batch_normalization_250[0][0]    \n",
            "__________________________________________________________________________________________________\n",
            "activation_255 (Activation)     (None, 7, 7, 192)    0           batch_normalization_255[0][0]    \n",
            "__________________________________________________________________________________________________\n",
            "average_pooling2d_24 (AveragePo (None, 7, 7, 768)    0           mixed6[0][0]                     \n",
            "__________________________________________________________________________________________________\n",
            "conv2d_248 (Conv2D)             (None, 7, 7, 192)    147456      mixed6[0][0]                     \n",
            "__________________________________________________________________________________________________\n",
            "conv2d_251 (Conv2D)             (None, 7, 7, 192)    258048      activation_250[0][0]             \n",
            "__________________________________________________________________________________________________\n",
            "conv2d_256 (Conv2D)             (None, 7, 7, 192)    258048      activation_255[0][0]             \n",
            "__________________________________________________________________________________________________\n",
            "conv2d_257 (Conv2D)             (None, 7, 7, 192)    147456      average_pooling2d_24[0][0]       \n",
            "__________________________________________________________________________________________________\n",
            "batch_normalization_248 (BatchN (None, 7, 7, 192)    576         conv2d_248[0][0]                 \n",
            "__________________________________________________________________________________________________\n",
            "batch_normalization_251 (BatchN (None, 7, 7, 192)    576         conv2d_251[0][0]                 \n",
            "__________________________________________________________________________________________________\n",
            "batch_normalization_256 (BatchN (None, 7, 7, 192)    576         conv2d_256[0][0]                 \n",
            "__________________________________________________________________________________________________\n",
            "batch_normalization_257 (BatchN (None, 7, 7, 192)    576         conv2d_257[0][0]                 \n",
            "__________________________________________________________________________________________________\n",
            "activation_248 (Activation)     (None, 7, 7, 192)    0           batch_normalization_248[0][0]    \n",
            "__________________________________________________________________________________________________\n",
            "activation_251 (Activation)     (None, 7, 7, 192)    0           batch_normalization_251[0][0]    \n",
            "__________________________________________________________________________________________________\n",
            "activation_256 (Activation)     (None, 7, 7, 192)    0           batch_normalization_256[0][0]    \n",
            "__________________________________________________________________________________________________\n",
            "activation_257 (Activation)     (None, 7, 7, 192)    0           batch_normalization_257[0][0]    \n",
            "__________________________________________________________________________________________________\n",
            "mixed7 (Concatenate)            (None, 7, 7, 768)    0           activation_248[0][0]             \n",
            "                                                                 activation_251[0][0]             \n",
            "                                                                 activation_256[0][0]             \n",
            "                                                                 activation_257[0][0]             \n",
            "__________________________________________________________________________________________________\n",
            "conv2d_260 (Conv2D)             (None, 7, 7, 192)    147456      mixed7[0][0]                     \n",
            "__________________________________________________________________________________________________\n",
            "batch_normalization_260 (BatchN (None, 7, 7, 192)    576         conv2d_260[0][0]                 \n",
            "__________________________________________________________________________________________________\n",
            "activation_260 (Activation)     (None, 7, 7, 192)    0           batch_normalization_260[0][0]    \n",
            "__________________________________________________________________________________________________\n",
            "conv2d_261 (Conv2D)             (None, 7, 7, 192)    258048      activation_260[0][0]             \n",
            "__________________________________________________________________________________________________\n",
            "batch_normalization_261 (BatchN (None, 7, 7, 192)    576         conv2d_261[0][0]                 \n",
            "__________________________________________________________________________________________________\n",
            "activation_261 (Activation)     (None, 7, 7, 192)    0           batch_normalization_261[0][0]    \n",
            "__________________________________________________________________________________________________\n",
            "conv2d_258 (Conv2D)             (None, 7, 7, 192)    147456      mixed7[0][0]                     \n",
            "__________________________________________________________________________________________________\n",
            "conv2d_262 (Conv2D)             (None, 7, 7, 192)    258048      activation_261[0][0]             \n",
            "__________________________________________________________________________________________________\n",
            "batch_normalization_258 (BatchN (None, 7, 7, 192)    576         conv2d_258[0][0]                 \n",
            "__________________________________________________________________________________________________\n",
            "batch_normalization_262 (BatchN (None, 7, 7, 192)    576         conv2d_262[0][0]                 \n",
            "__________________________________________________________________________________________________\n",
            "activation_258 (Activation)     (None, 7, 7, 192)    0           batch_normalization_258[0][0]    \n",
            "__________________________________________________________________________________________________\n",
            "activation_262 (Activation)     (None, 7, 7, 192)    0           batch_normalization_262[0][0]    \n",
            "__________________________________________________________________________________________________\n",
            "conv2d_259 (Conv2D)             (None, 3, 3, 320)    552960      activation_258[0][0]             \n",
            "__________________________________________________________________________________________________\n",
            "conv2d_263 (Conv2D)             (None, 3, 3, 192)    331776      activation_262[0][0]             \n",
            "__________________________________________________________________________________________________\n",
            "batch_normalization_259 (BatchN (None, 3, 3, 320)    960         conv2d_259[0][0]                 \n",
            "__________________________________________________________________________________________________\n",
            "batch_normalization_263 (BatchN (None, 3, 3, 192)    576         conv2d_263[0][0]                 \n",
            "__________________________________________________________________________________________________\n",
            "activation_259 (Activation)     (None, 3, 3, 320)    0           batch_normalization_259[0][0]    \n",
            "__________________________________________________________________________________________________\n",
            "activation_263 (Activation)     (None, 3, 3, 192)    0           batch_normalization_263[0][0]    \n",
            "__________________________________________________________________________________________________\n",
            "max_pooling2d_11 (MaxPooling2D) (None, 3, 3, 768)    0           mixed7[0][0]                     \n",
            "__________________________________________________________________________________________________\n",
            "mixed8 (Concatenate)            (None, 3, 3, 1280)   0           activation_259[0][0]             \n",
            "                                                                 activation_263[0][0]             \n",
            "                                                                 max_pooling2d_11[0][0]           \n",
            "__________________________________________________________________________________________________\n",
            "conv2d_268 (Conv2D)             (None, 3, 3, 448)    573440      mixed8[0][0]                     \n",
            "__________________________________________________________________________________________________\n",
            "batch_normalization_268 (BatchN (None, 3, 3, 448)    1344        conv2d_268[0][0]                 \n",
            "__________________________________________________________________________________________________\n",
            "activation_268 (Activation)     (None, 3, 3, 448)    0           batch_normalization_268[0][0]    \n",
            "__________________________________________________________________________________________________\n",
            "conv2d_265 (Conv2D)             (None, 3, 3, 384)    491520      mixed8[0][0]                     \n",
            "__________________________________________________________________________________________________\n",
            "conv2d_269 (Conv2D)             (None, 3, 3, 384)    1548288     activation_268[0][0]             \n",
            "__________________________________________________________________________________________________\n",
            "batch_normalization_265 (BatchN (None, 3, 3, 384)    1152        conv2d_265[0][0]                 \n",
            "__________________________________________________________________________________________________\n",
            "batch_normalization_269 (BatchN (None, 3, 3, 384)    1152        conv2d_269[0][0]                 \n",
            "__________________________________________________________________________________________________\n",
            "activation_265 (Activation)     (None, 3, 3, 384)    0           batch_normalization_265[0][0]    \n",
            "__________________________________________________________________________________________________\n",
            "activation_269 (Activation)     (None, 3, 3, 384)    0           batch_normalization_269[0][0]    \n",
            "__________________________________________________________________________________________________\n",
            "conv2d_266 (Conv2D)             (None, 3, 3, 384)    442368      activation_265[0][0]             \n",
            "__________________________________________________________________________________________________\n",
            "conv2d_267 (Conv2D)             (None, 3, 3, 384)    442368      activation_265[0][0]             \n",
            "__________________________________________________________________________________________________\n",
            "conv2d_270 (Conv2D)             (None, 3, 3, 384)    442368      activation_269[0][0]             \n",
            "__________________________________________________________________________________________________\n",
            "conv2d_271 (Conv2D)             (None, 3, 3, 384)    442368      activation_269[0][0]             \n",
            "__________________________________________________________________________________________________\n",
            "average_pooling2d_25 (AveragePo (None, 3, 3, 1280)   0           mixed8[0][0]                     \n",
            "__________________________________________________________________________________________________\n",
            "conv2d_264 (Conv2D)             (None, 3, 3, 320)    409600      mixed8[0][0]                     \n",
            "__________________________________________________________________________________________________\n",
            "batch_normalization_266 (BatchN (None, 3, 3, 384)    1152        conv2d_266[0][0]                 \n",
            "__________________________________________________________________________________________________\n",
            "batch_normalization_267 (BatchN (None, 3, 3, 384)    1152        conv2d_267[0][0]                 \n",
            "__________________________________________________________________________________________________\n",
            "batch_normalization_270 (BatchN (None, 3, 3, 384)    1152        conv2d_270[0][0]                 \n",
            "__________________________________________________________________________________________________\n",
            "batch_normalization_271 (BatchN (None, 3, 3, 384)    1152        conv2d_271[0][0]                 \n",
            "__________________________________________________________________________________________________\n",
            "conv2d_272 (Conv2D)             (None, 3, 3, 192)    245760      average_pooling2d_25[0][0]       \n",
            "__________________________________________________________________________________________________\n",
            "batch_normalization_264 (BatchN (None, 3, 3, 320)    960         conv2d_264[0][0]                 \n",
            "__________________________________________________________________________________________________\n",
            "activation_266 (Activation)     (None, 3, 3, 384)    0           batch_normalization_266[0][0]    \n",
            "__________________________________________________________________________________________________\n",
            "activation_267 (Activation)     (None, 3, 3, 384)    0           batch_normalization_267[0][0]    \n",
            "__________________________________________________________________________________________________\n",
            "activation_270 (Activation)     (None, 3, 3, 384)    0           batch_normalization_270[0][0]    \n",
            "__________________________________________________________________________________________________\n",
            "activation_271 (Activation)     (None, 3, 3, 384)    0           batch_normalization_271[0][0]    \n",
            "__________________________________________________________________________________________________\n",
            "batch_normalization_272 (BatchN (None, 3, 3, 192)    576         conv2d_272[0][0]                 \n",
            "__________________________________________________________________________________________________\n",
            "activation_264 (Activation)     (None, 3, 3, 320)    0           batch_normalization_264[0][0]    \n",
            "__________________________________________________________________________________________________\n",
            "mixed9_0 (Concatenate)          (None, 3, 3, 768)    0           activation_266[0][0]             \n",
            "                                                                 activation_267[0][0]             \n",
            "__________________________________________________________________________________________________\n",
            "concatenate_5 (Concatenate)     (None, 3, 3, 768)    0           activation_270[0][0]             \n",
            "                                                                 activation_271[0][0]             \n",
            "__________________________________________________________________________________________________\n",
            "activation_272 (Activation)     (None, 3, 3, 192)    0           batch_normalization_272[0][0]    \n",
            "__________________________________________________________________________________________________\n",
            "mixed9 (Concatenate)            (None, 3, 3, 2048)   0           activation_264[0][0]             \n",
            "                                                                 mixed9_0[0][0]                   \n",
            "                                                                 concatenate_5[0][0]              \n",
            "                                                                 activation_272[0][0]             \n",
            "__________________________________________________________________________________________________\n",
            "conv2d_277 (Conv2D)             (None, 3, 3, 448)    917504      mixed9[0][0]                     \n",
            "__________________________________________________________________________________________________\n",
            "batch_normalization_277 (BatchN (None, 3, 3, 448)    1344        conv2d_277[0][0]                 \n",
            "__________________________________________________________________________________________________\n",
            "activation_277 (Activation)     (None, 3, 3, 448)    0           batch_normalization_277[0][0]    \n",
            "__________________________________________________________________________________________________\n",
            "conv2d_274 (Conv2D)             (None, 3, 3, 384)    786432      mixed9[0][0]                     \n",
            "__________________________________________________________________________________________________\n",
            "conv2d_278 (Conv2D)             (None, 3, 3, 384)    1548288     activation_277[0][0]             \n",
            "__________________________________________________________________________________________________\n",
            "batch_normalization_274 (BatchN (None, 3, 3, 384)    1152        conv2d_274[0][0]                 \n",
            "__________________________________________________________________________________________________\n",
            "batch_normalization_278 (BatchN (None, 3, 3, 384)    1152        conv2d_278[0][0]                 \n",
            "__________________________________________________________________________________________________\n",
            "activation_274 (Activation)     (None, 3, 3, 384)    0           batch_normalization_274[0][0]    \n",
            "__________________________________________________________________________________________________\n",
            "activation_278 (Activation)     (None, 3, 3, 384)    0           batch_normalization_278[0][0]    \n",
            "__________________________________________________________________________________________________\n",
            "conv2d_275 (Conv2D)             (None, 3, 3, 384)    442368      activation_274[0][0]             \n",
            "__________________________________________________________________________________________________\n",
            "conv2d_276 (Conv2D)             (None, 3, 3, 384)    442368      activation_274[0][0]             \n",
            "__________________________________________________________________________________________________\n",
            "conv2d_279 (Conv2D)             (None, 3, 3, 384)    442368      activation_278[0][0]             \n",
            "__________________________________________________________________________________________________\n",
            "conv2d_280 (Conv2D)             (None, 3, 3, 384)    442368      activation_278[0][0]             \n",
            "__________________________________________________________________________________________________\n",
            "average_pooling2d_26 (AveragePo (None, 3, 3, 2048)   0           mixed9[0][0]                     \n",
            "__________________________________________________________________________________________________\n",
            "conv2d_273 (Conv2D)             (None, 3, 3, 320)    655360      mixed9[0][0]                     \n",
            "__________________________________________________________________________________________________\n",
            "batch_normalization_275 (BatchN (None, 3, 3, 384)    1152        conv2d_275[0][0]                 \n",
            "__________________________________________________________________________________________________\n",
            "batch_normalization_276 (BatchN (None, 3, 3, 384)    1152        conv2d_276[0][0]                 \n",
            "__________________________________________________________________________________________________\n",
            "batch_normalization_279 (BatchN (None, 3, 3, 384)    1152        conv2d_279[0][0]                 \n",
            "__________________________________________________________________________________________________\n",
            "batch_normalization_280 (BatchN (None, 3, 3, 384)    1152        conv2d_280[0][0]                 \n",
            "__________________________________________________________________________________________________\n",
            "conv2d_281 (Conv2D)             (None, 3, 3, 192)    393216      average_pooling2d_26[0][0]       \n",
            "__________________________________________________________________________________________________\n",
            "batch_normalization_273 (BatchN (None, 3, 3, 320)    960         conv2d_273[0][0]                 \n",
            "__________________________________________________________________________________________________\n",
            "activation_275 (Activation)     (None, 3, 3, 384)    0           batch_normalization_275[0][0]    \n",
            "__________________________________________________________________________________________________\n",
            "activation_276 (Activation)     (None, 3, 3, 384)    0           batch_normalization_276[0][0]    \n",
            "__________________________________________________________________________________________________\n",
            "activation_279 (Activation)     (None, 3, 3, 384)    0           batch_normalization_279[0][0]    \n",
            "__________________________________________________________________________________________________\n",
            "activation_280 (Activation)     (None, 3, 3, 384)    0           batch_normalization_280[0][0]    \n",
            "__________________________________________________________________________________________________\n",
            "batch_normalization_281 (BatchN (None, 3, 3, 192)    576         conv2d_281[0][0]                 \n",
            "__________________________________________________________________________________________________\n",
            "activation_273 (Activation)     (None, 3, 3, 320)    0           batch_normalization_273[0][0]    \n",
            "__________________________________________________________________________________________________\n",
            "mixed9_1 (Concatenate)          (None, 3, 3, 768)    0           activation_275[0][0]             \n",
            "                                                                 activation_276[0][0]             \n",
            "__________________________________________________________________________________________________\n",
            "concatenate_6 (Concatenate)     (None, 3, 3, 768)    0           activation_279[0][0]             \n",
            "                                                                 activation_280[0][0]             \n",
            "__________________________________________________________________________________________________\n",
            "activation_281 (Activation)     (None, 3, 3, 192)    0           batch_normalization_281[0][0]    \n",
            "__________________________________________________________________________________________________\n",
            "mixed10 (Concatenate)           (None, 3, 3, 2048)   0           activation_273[0][0]             \n",
            "                                                                 mixed9_1[0][0]                   \n",
            "                                                                 concatenate_6[0][0]              \n",
            "                                                                 activation_281[0][0]             \n",
            "__________________________________________________________________________________________________\n",
            "global_average_pooling2d_2 (Glo (None, 2048)         0           mixed10[0][0]                    \n",
            "__________________________________________________________________________________________________\n",
            "input_gender (InputLayer)       [(None, 1)]          0                                            \n",
            "__________________________________________________________________________________________________\n",
            "flatten_2 (Flatten)             (None, 2048)         0           global_average_pooling2d_2[0][0] \n",
            "__________________________________________________________________________________________________\n",
            "dense_5 (Dense)                 (None, 32)           64          input_gender[0][0]               \n",
            "__________________________________________________________________________________________________\n",
            "concatenate_7 (Concatenate)     (None, 2080)         0           flatten_2[0][0]                  \n",
            "                                                                 dense_5[0][0]                    \n",
            "__________________________________________________________________________________________________\n",
            "dense_6 (Dense)                 (None, 1000)         2081000     concatenate_7[0][0]              \n",
            "__________________________________________________________________________________________________\n",
            "dense_7 (Dense)                 (None, 1000)         1001000     dense_6[0][0]                    \n",
            "__________________________________________________________________________________________________\n",
            "dense_8 (Dense)                 (None, 1)            1001        dense_7[0][0]                    \n",
            "==================================================================================================\n",
            "Total params: 24,885,849\n",
            "Trainable params: 24,851,417\n",
            "Non-trainable params: 34,432\n",
            "__________________________________________________________________________________________________\n"
          ],
          "name": "stdout"
        }
      ]
    },
    {
      "cell_type": "code",
      "metadata": {
        "id": "ooOz7SReCNuY"
      },
      "source": [
        "train_idg = ImageDataGenerator(rotation_range=20, width_shift_range=0.2, height_shift_range=0.2,\n",
        "                              zoom_range=0.2, horizontal_flip=True,validation_split=0.1)\n",
        "\n",
        "val_idg = ImageDataGenerator(width_shift_range=0.25, height_shift_range=0.25, horizontal_flip=True)\n",
        "\n",
        "\n"
      ],
      "execution_count": null,
      "outputs": []
    },
    {
      "cell_type": "code",
      "metadata": {
        "id": "K9GEKfrKm0K_"
      },
      "source": [
        "batch_size=16\n",
        "train_generator = train_idg.flow(\n",
        "        training_data,\n",
        "        boneage_train,\n",
        "        batch_size=batch_size)\n",
        "\n",
        "\n",
        "validation_generator = val_idg.flow(\n",
        "                                validation_data,\n",
        "                                boneage_val,\n",
        "                                batch_size=batch_size\n",
        "                                )\n",
        "#save_to_dir='/content/augemented'"
      ],
      "execution_count": null,
      "outputs": []
    },
    {
      "cell_type": "code",
      "metadata": {
        "id": "gdGtP68RHlfN"
      },
      "source": [
        "#combining the two generators for gender and image data \n",
        "from itertools import cycle\n",
        "\n",
        "\n",
        "def combined_generators(image_generator, gender_data, batch_size):\n",
        "    gender_generator = cycle(batch(gender_data, batch_size))\n",
        "    while True:\n",
        "        nextImage = next(image_generator)\n",
        "        nextGender = next(gender_generator)\n",
        "        assert len(nextImage[0]) == len(nextGender)\n",
        "        yield [nextImage[0], nextGender], nextImage[1]\n",
        "\n",
        "def batch(iterable, n=1):\n",
        "    l = len(iterable)\n",
        "    for ndx in range(0, l, n):\n",
        "        yield iterable[ndx:min(ndx + n, l)]\n",
        "\n"
      ],
      "execution_count": null,
      "outputs": []
    },
    {
      "cell_type": "code",
      "metadata": {
        "id": "4vuNL--NvD19"
      },
      "source": [
        "train_gen_wrapper = combined_generators(train_generator, male_train, batch_size)\n",
        "val_gen_wrapper = combined_generators(validation_generator, male_val, batch_size)"
      ],
      "execution_count": null,
      "outputs": []
    },
    {
      "cell_type": "code",
      "metadata": {
        "id": "gaJy57XyBDcK"
      },
      "source": [
        "#history = History()\n",
        "logger = CSVLogger('/content/drive/My Drive/Projects/bone_age_prediction/logs/training.log', separator=',', append=False)\n",
        "earlystopping = EarlyStopping(monitor='val_loss', min_delta=0.01, patience=10, verbose=10, mode='min')\n",
        "checkpoint = ModelCheckpoint('/content/drive/My Drive/Projects/bone_age_prediction/checkpoint '+ 'weights-{epoch:02d}-{val_loss:.2f}.h5', monitor='val_loss', save_best_only=True, verbose=1, mode='min')\n",
        "reduceLROnPlat = ReduceLROnPlateau(monitor='val_loss', factor=0.8, patience=10, verbose=1, mode='auto', min_delta=0.0001, cooldown=5, min_lr=0.0001)"
      ],
      "execution_count": null,
      "outputs": []
    },
    {
      "cell_type": "code",
      "metadata": {
        "id": "_6V7VZLXBCnM"
      },
      "source": [
        "NUM_EPOCHS=100\n",
        "\n",
        "history = model.fit_generator(train_gen_wrapper, validation_data=val_gen_wrapper,\n",
        "                              epochs=NUM_EPOCHS, steps_per_epoch=len(train_generator),\n",
        "                              validation_steps=len(validation_generator),\n",
        "                              callbacks=[ early, checkpoint, reduceLROnPlat])"
      ],
      "execution_count": null,
      "outputs": []
    },
    {
      "cell_type": "markdown",
      "metadata": {
        "id": "7EkXxcpT0hsS"
      },
      "source": [
        "#**working with model takes one input (image data )**\n",
        "\n",
        "\n",
        "\n",
        "\n"
      ]
    },
    {
      "cell_type": "code",
      "metadata": {
        "id": "9yy0Sd4H5gtq"
      },
      "source": [
        "#building the model\n",
        "def Boneage_prediction_model():\n",
        "    i1 = Input(shape=(150,150,3), name='input_img')\n",
        "    base = InceptionV3(input_tensor=i1, input_shape=(150,150,3), include_top=False, weights='imagenet')\n",
        "    feature_img = base.get_layer(name='mixed10').output\n",
        "    feature_img = AveragePooling2D((2,2))(feature_img)\n",
        "    feature_img = Flatten()(feature_img)\n",
        "    feature = feature_img\n",
        "    o = Dense(1000, activation='relu')(feature)\n",
        "    o = Dense(1000, activation='relu')(o)\n",
        "    o = Dense(1)(o)\n",
        "    model = Model(inputs=i1, outputs=o)\n",
        "    optimizer =Adam(lr=1e-3)\n",
        "    model.compile(loss='mean_absolute_error', optimizer=optimizer, metrics=['mae'])\n",
        "    return model"
      ],
      "execution_count": null,
      "outputs": []
    },
    {
      "cell_type": "code",
      "metadata": {
        "id": "bFRyXirX5n7m"
      },
      "source": [
        "model = Boneage_prediction_model()\n",
        "history = History()"
      ],
      "execution_count": null,
      "outputs": []
    },
    {
      "cell_type": "code",
      "metadata": {
        "id": "nneoi7i1Xr2O",
        "outputId": "107ff027-f938-41e4-c79a-5e334e4058a1",
        "colab": {
          "base_uri": "https://localhost:8080/",
          "height": 1000
        }
      },
      "source": [
        "model.summary()"
      ],
      "execution_count": null,
      "outputs": [
        {
          "output_type": "stream",
          "text": [
            "Model: \"functional_7\"\n",
            "__________________________________________________________________________________________________\n",
            "Layer (type)                    Output Shape         Param #     Connected to                     \n",
            "==================================================================================================\n",
            "input_img (InputLayer)          [(None, 150, 150, 3) 0                                            \n",
            "__________________________________________________________________________________________________\n",
            "conv2d_376 (Conv2D)             (None, 74, 74, 32)   864         input_img[0][0]                  \n",
            "__________________________________________________________________________________________________\n",
            "batch_normalization_376 (BatchN (None, 74, 74, 32)   96          conv2d_376[0][0]                 \n",
            "__________________________________________________________________________________________________\n",
            "activation_376 (Activation)     (None, 74, 74, 32)   0           batch_normalization_376[0][0]    \n",
            "__________________________________________________________________________________________________\n",
            "conv2d_377 (Conv2D)             (None, 72, 72, 32)   9216        activation_376[0][0]             \n",
            "__________________________________________________________________________________________________\n",
            "batch_normalization_377 (BatchN (None, 72, 72, 32)   96          conv2d_377[0][0]                 \n",
            "__________________________________________________________________________________________________\n",
            "activation_377 (Activation)     (None, 72, 72, 32)   0           batch_normalization_377[0][0]    \n",
            "__________________________________________________________________________________________________\n",
            "conv2d_378 (Conv2D)             (None, 72, 72, 64)   18432       activation_377[0][0]             \n",
            "__________________________________________________________________________________________________\n",
            "batch_normalization_378 (BatchN (None, 72, 72, 64)   192         conv2d_378[0][0]                 \n",
            "__________________________________________________________________________________________________\n",
            "activation_378 (Activation)     (None, 72, 72, 64)   0           batch_normalization_378[0][0]    \n",
            "__________________________________________________________________________________________________\n",
            "max_pooling2d_16 (MaxPooling2D) (None, 35, 35, 64)   0           activation_378[0][0]             \n",
            "__________________________________________________________________________________________________\n",
            "conv2d_379 (Conv2D)             (None, 35, 35, 80)   5120        max_pooling2d_16[0][0]           \n",
            "__________________________________________________________________________________________________\n",
            "batch_normalization_379 (BatchN (None, 35, 35, 80)   240         conv2d_379[0][0]                 \n",
            "__________________________________________________________________________________________________\n",
            "activation_379 (Activation)     (None, 35, 35, 80)   0           batch_normalization_379[0][0]    \n",
            "__________________________________________________________________________________________________\n",
            "conv2d_380 (Conv2D)             (None, 33, 33, 192)  138240      activation_379[0][0]             \n",
            "__________________________________________________________________________________________________\n",
            "batch_normalization_380 (BatchN (None, 33, 33, 192)  576         conv2d_380[0][0]                 \n",
            "__________________________________________________________________________________________________\n",
            "activation_380 (Activation)     (None, 33, 33, 192)  0           batch_normalization_380[0][0]    \n",
            "__________________________________________________________________________________________________\n",
            "max_pooling2d_17 (MaxPooling2D) (None, 16, 16, 192)  0           activation_380[0][0]             \n",
            "__________________________________________________________________________________________________\n",
            "conv2d_384 (Conv2D)             (None, 16, 16, 64)   12288       max_pooling2d_17[0][0]           \n",
            "__________________________________________________________________________________________________\n",
            "batch_normalization_384 (BatchN (None, 16, 16, 64)   192         conv2d_384[0][0]                 \n",
            "__________________________________________________________________________________________________\n",
            "activation_384 (Activation)     (None, 16, 16, 64)   0           batch_normalization_384[0][0]    \n",
            "__________________________________________________________________________________________________\n",
            "conv2d_382 (Conv2D)             (None, 16, 16, 48)   9216        max_pooling2d_17[0][0]           \n",
            "__________________________________________________________________________________________________\n",
            "conv2d_385 (Conv2D)             (None, 16, 16, 96)   55296       activation_384[0][0]             \n",
            "__________________________________________________________________________________________________\n",
            "batch_normalization_382 (BatchN (None, 16, 16, 48)   144         conv2d_382[0][0]                 \n",
            "__________________________________________________________________________________________________\n",
            "batch_normalization_385 (BatchN (None, 16, 16, 96)   288         conv2d_385[0][0]                 \n",
            "__________________________________________________________________________________________________\n",
            "activation_382 (Activation)     (None, 16, 16, 48)   0           batch_normalization_382[0][0]    \n",
            "__________________________________________________________________________________________________\n",
            "activation_385 (Activation)     (None, 16, 16, 96)   0           batch_normalization_385[0][0]    \n",
            "__________________________________________________________________________________________________\n",
            "average_pooling2d_37 (AveragePo (None, 16, 16, 192)  0           max_pooling2d_17[0][0]           \n",
            "__________________________________________________________________________________________________\n",
            "conv2d_381 (Conv2D)             (None, 16, 16, 64)   12288       max_pooling2d_17[0][0]           \n",
            "__________________________________________________________________________________________________\n",
            "conv2d_383 (Conv2D)             (None, 16, 16, 64)   76800       activation_382[0][0]             \n",
            "__________________________________________________________________________________________________\n",
            "conv2d_386 (Conv2D)             (None, 16, 16, 96)   82944       activation_385[0][0]             \n",
            "__________________________________________________________________________________________________\n",
            "conv2d_387 (Conv2D)             (None, 16, 16, 32)   6144        average_pooling2d_37[0][0]       \n",
            "__________________________________________________________________________________________________\n",
            "batch_normalization_381 (BatchN (None, 16, 16, 64)   192         conv2d_381[0][0]                 \n",
            "__________________________________________________________________________________________________\n",
            "batch_normalization_383 (BatchN (None, 16, 16, 64)   192         conv2d_383[0][0]                 \n",
            "__________________________________________________________________________________________________\n",
            "batch_normalization_386 (BatchN (None, 16, 16, 96)   288         conv2d_386[0][0]                 \n",
            "__________________________________________________________________________________________________\n",
            "batch_normalization_387 (BatchN (None, 16, 16, 32)   96          conv2d_387[0][0]                 \n",
            "__________________________________________________________________________________________________\n",
            "activation_381 (Activation)     (None, 16, 16, 64)   0           batch_normalization_381[0][0]    \n",
            "__________________________________________________________________________________________________\n",
            "activation_383 (Activation)     (None, 16, 16, 64)   0           batch_normalization_383[0][0]    \n",
            "__________________________________________________________________________________________________\n",
            "activation_386 (Activation)     (None, 16, 16, 96)   0           batch_normalization_386[0][0]    \n",
            "__________________________________________________________________________________________________\n",
            "activation_387 (Activation)     (None, 16, 16, 32)   0           batch_normalization_387[0][0]    \n",
            "__________________________________________________________________________________________________\n",
            "mixed0 (Concatenate)            (None, 16, 16, 256)  0           activation_381[0][0]             \n",
            "                                                                 activation_383[0][0]             \n",
            "                                                                 activation_386[0][0]             \n",
            "                                                                 activation_387[0][0]             \n",
            "__________________________________________________________________________________________________\n",
            "conv2d_391 (Conv2D)             (None, 16, 16, 64)   16384       mixed0[0][0]                     \n",
            "__________________________________________________________________________________________________\n",
            "batch_normalization_391 (BatchN (None, 16, 16, 64)   192         conv2d_391[0][0]                 \n",
            "__________________________________________________________________________________________________\n",
            "activation_391 (Activation)     (None, 16, 16, 64)   0           batch_normalization_391[0][0]    \n",
            "__________________________________________________________________________________________________\n",
            "conv2d_389 (Conv2D)             (None, 16, 16, 48)   12288       mixed0[0][0]                     \n",
            "__________________________________________________________________________________________________\n",
            "conv2d_392 (Conv2D)             (None, 16, 16, 96)   55296       activation_391[0][0]             \n",
            "__________________________________________________________________________________________________\n",
            "batch_normalization_389 (BatchN (None, 16, 16, 48)   144         conv2d_389[0][0]                 \n",
            "__________________________________________________________________________________________________\n",
            "batch_normalization_392 (BatchN (None, 16, 16, 96)   288         conv2d_392[0][0]                 \n",
            "__________________________________________________________________________________________________\n",
            "activation_389 (Activation)     (None, 16, 16, 48)   0           batch_normalization_389[0][0]    \n",
            "__________________________________________________________________________________________________\n",
            "activation_392 (Activation)     (None, 16, 16, 96)   0           batch_normalization_392[0][0]    \n",
            "__________________________________________________________________________________________________\n",
            "average_pooling2d_38 (AveragePo (None, 16, 16, 256)  0           mixed0[0][0]                     \n",
            "__________________________________________________________________________________________________\n",
            "conv2d_388 (Conv2D)             (None, 16, 16, 64)   16384       mixed0[0][0]                     \n",
            "__________________________________________________________________________________________________\n",
            "conv2d_390 (Conv2D)             (None, 16, 16, 64)   76800       activation_389[0][0]             \n",
            "__________________________________________________________________________________________________\n",
            "conv2d_393 (Conv2D)             (None, 16, 16, 96)   82944       activation_392[0][0]             \n",
            "__________________________________________________________________________________________________\n",
            "conv2d_394 (Conv2D)             (None, 16, 16, 64)   16384       average_pooling2d_38[0][0]       \n",
            "__________________________________________________________________________________________________\n",
            "batch_normalization_388 (BatchN (None, 16, 16, 64)   192         conv2d_388[0][0]                 \n",
            "__________________________________________________________________________________________________\n",
            "batch_normalization_390 (BatchN (None, 16, 16, 64)   192         conv2d_390[0][0]                 \n",
            "__________________________________________________________________________________________________\n",
            "batch_normalization_393 (BatchN (None, 16, 16, 96)   288         conv2d_393[0][0]                 \n",
            "__________________________________________________________________________________________________\n",
            "batch_normalization_394 (BatchN (None, 16, 16, 64)   192         conv2d_394[0][0]                 \n",
            "__________________________________________________________________________________________________\n",
            "activation_388 (Activation)     (None, 16, 16, 64)   0           batch_normalization_388[0][0]    \n",
            "__________________________________________________________________________________________________\n",
            "activation_390 (Activation)     (None, 16, 16, 64)   0           batch_normalization_390[0][0]    \n",
            "__________________________________________________________________________________________________\n",
            "activation_393 (Activation)     (None, 16, 16, 96)   0           batch_normalization_393[0][0]    \n",
            "__________________________________________________________________________________________________\n",
            "activation_394 (Activation)     (None, 16, 16, 64)   0           batch_normalization_394[0][0]    \n",
            "__________________________________________________________________________________________________\n",
            "mixed1 (Concatenate)            (None, 16, 16, 288)  0           activation_388[0][0]             \n",
            "                                                                 activation_390[0][0]             \n",
            "                                                                 activation_393[0][0]             \n",
            "                                                                 activation_394[0][0]             \n",
            "__________________________________________________________________________________________________\n",
            "conv2d_398 (Conv2D)             (None, 16, 16, 64)   18432       mixed1[0][0]                     \n",
            "__________________________________________________________________________________________________\n",
            "batch_normalization_398 (BatchN (None, 16, 16, 64)   192         conv2d_398[0][0]                 \n",
            "__________________________________________________________________________________________________\n",
            "activation_398 (Activation)     (None, 16, 16, 64)   0           batch_normalization_398[0][0]    \n",
            "__________________________________________________________________________________________________\n",
            "conv2d_396 (Conv2D)             (None, 16, 16, 48)   13824       mixed1[0][0]                     \n",
            "__________________________________________________________________________________________________\n",
            "conv2d_399 (Conv2D)             (None, 16, 16, 96)   55296       activation_398[0][0]             \n",
            "__________________________________________________________________________________________________\n",
            "batch_normalization_396 (BatchN (None, 16, 16, 48)   144         conv2d_396[0][0]                 \n",
            "__________________________________________________________________________________________________\n",
            "batch_normalization_399 (BatchN (None, 16, 16, 96)   288         conv2d_399[0][0]                 \n",
            "__________________________________________________________________________________________________\n",
            "activation_396 (Activation)     (None, 16, 16, 48)   0           batch_normalization_396[0][0]    \n",
            "__________________________________________________________________________________________________\n",
            "activation_399 (Activation)     (None, 16, 16, 96)   0           batch_normalization_399[0][0]    \n",
            "__________________________________________________________________________________________________\n",
            "average_pooling2d_39 (AveragePo (None, 16, 16, 288)  0           mixed1[0][0]                     \n",
            "__________________________________________________________________________________________________\n",
            "conv2d_395 (Conv2D)             (None, 16, 16, 64)   18432       mixed1[0][0]                     \n",
            "__________________________________________________________________________________________________\n",
            "conv2d_397 (Conv2D)             (None, 16, 16, 64)   76800       activation_396[0][0]             \n",
            "__________________________________________________________________________________________________\n",
            "conv2d_400 (Conv2D)             (None, 16, 16, 96)   82944       activation_399[0][0]             \n",
            "__________________________________________________________________________________________________\n",
            "conv2d_401 (Conv2D)             (None, 16, 16, 64)   18432       average_pooling2d_39[0][0]       \n",
            "__________________________________________________________________________________________________\n",
            "batch_normalization_395 (BatchN (None, 16, 16, 64)   192         conv2d_395[0][0]                 \n",
            "__________________________________________________________________________________________________\n",
            "batch_normalization_397 (BatchN (None, 16, 16, 64)   192         conv2d_397[0][0]                 \n",
            "__________________________________________________________________________________________________\n",
            "batch_normalization_400 (BatchN (None, 16, 16, 96)   288         conv2d_400[0][0]                 \n",
            "__________________________________________________________________________________________________\n",
            "batch_normalization_401 (BatchN (None, 16, 16, 64)   192         conv2d_401[0][0]                 \n",
            "__________________________________________________________________________________________________\n",
            "activation_395 (Activation)     (None, 16, 16, 64)   0           batch_normalization_395[0][0]    \n",
            "__________________________________________________________________________________________________\n",
            "activation_397 (Activation)     (None, 16, 16, 64)   0           batch_normalization_397[0][0]    \n",
            "__________________________________________________________________________________________________\n",
            "activation_400 (Activation)     (None, 16, 16, 96)   0           batch_normalization_400[0][0]    \n",
            "__________________________________________________________________________________________________\n",
            "activation_401 (Activation)     (None, 16, 16, 64)   0           batch_normalization_401[0][0]    \n",
            "__________________________________________________________________________________________________\n",
            "mixed2 (Concatenate)            (None, 16, 16, 288)  0           activation_395[0][0]             \n",
            "                                                                 activation_397[0][0]             \n",
            "                                                                 activation_400[0][0]             \n",
            "                                                                 activation_401[0][0]             \n",
            "__________________________________________________________________________________________________\n",
            "conv2d_403 (Conv2D)             (None, 16, 16, 64)   18432       mixed2[0][0]                     \n",
            "__________________________________________________________________________________________________\n",
            "batch_normalization_403 (BatchN (None, 16, 16, 64)   192         conv2d_403[0][0]                 \n",
            "__________________________________________________________________________________________________\n",
            "activation_403 (Activation)     (None, 16, 16, 64)   0           batch_normalization_403[0][0]    \n",
            "__________________________________________________________________________________________________\n",
            "conv2d_404 (Conv2D)             (None, 16, 16, 96)   55296       activation_403[0][0]             \n",
            "__________________________________________________________________________________________________\n",
            "batch_normalization_404 (BatchN (None, 16, 16, 96)   288         conv2d_404[0][0]                 \n",
            "__________________________________________________________________________________________________\n",
            "activation_404 (Activation)     (None, 16, 16, 96)   0           batch_normalization_404[0][0]    \n",
            "__________________________________________________________________________________________________\n",
            "conv2d_402 (Conv2D)             (None, 7, 7, 384)    995328      mixed2[0][0]                     \n",
            "__________________________________________________________________________________________________\n",
            "conv2d_405 (Conv2D)             (None, 7, 7, 96)     82944       activation_404[0][0]             \n",
            "__________________________________________________________________________________________________\n",
            "batch_normalization_402 (BatchN (None, 7, 7, 384)    1152        conv2d_402[0][0]                 \n",
            "__________________________________________________________________________________________________\n",
            "batch_normalization_405 (BatchN (None, 7, 7, 96)     288         conv2d_405[0][0]                 \n",
            "__________________________________________________________________________________________________\n",
            "activation_402 (Activation)     (None, 7, 7, 384)    0           batch_normalization_402[0][0]    \n",
            "__________________________________________________________________________________________________\n",
            "activation_405 (Activation)     (None, 7, 7, 96)     0           batch_normalization_405[0][0]    \n",
            "__________________________________________________________________________________________________\n",
            "max_pooling2d_18 (MaxPooling2D) (None, 7, 7, 288)    0           mixed2[0][0]                     \n",
            "__________________________________________________________________________________________________\n",
            "mixed3 (Concatenate)            (None, 7, 7, 768)    0           activation_402[0][0]             \n",
            "                                                                 activation_405[0][0]             \n",
            "                                                                 max_pooling2d_18[0][0]           \n",
            "__________________________________________________________________________________________________\n",
            "conv2d_410 (Conv2D)             (None, 7, 7, 128)    98304       mixed3[0][0]                     \n",
            "__________________________________________________________________________________________________\n",
            "batch_normalization_410 (BatchN (None, 7, 7, 128)    384         conv2d_410[0][0]                 \n",
            "__________________________________________________________________________________________________\n",
            "activation_410 (Activation)     (None, 7, 7, 128)    0           batch_normalization_410[0][0]    \n",
            "__________________________________________________________________________________________________\n",
            "conv2d_411 (Conv2D)             (None, 7, 7, 128)    114688      activation_410[0][0]             \n",
            "__________________________________________________________________________________________________\n",
            "batch_normalization_411 (BatchN (None, 7, 7, 128)    384         conv2d_411[0][0]                 \n",
            "__________________________________________________________________________________________________\n",
            "activation_411 (Activation)     (None, 7, 7, 128)    0           batch_normalization_411[0][0]    \n",
            "__________________________________________________________________________________________________\n",
            "conv2d_407 (Conv2D)             (None, 7, 7, 128)    98304       mixed3[0][0]                     \n",
            "__________________________________________________________________________________________________\n",
            "conv2d_412 (Conv2D)             (None, 7, 7, 128)    114688      activation_411[0][0]             \n",
            "__________________________________________________________________________________________________\n",
            "batch_normalization_407 (BatchN (None, 7, 7, 128)    384         conv2d_407[0][0]                 \n",
            "__________________________________________________________________________________________________\n",
            "batch_normalization_412 (BatchN (None, 7, 7, 128)    384         conv2d_412[0][0]                 \n",
            "__________________________________________________________________________________________________\n",
            "activation_407 (Activation)     (None, 7, 7, 128)    0           batch_normalization_407[0][0]    \n",
            "__________________________________________________________________________________________________\n",
            "activation_412 (Activation)     (None, 7, 7, 128)    0           batch_normalization_412[0][0]    \n",
            "__________________________________________________________________________________________________\n",
            "conv2d_408 (Conv2D)             (None, 7, 7, 128)    114688      activation_407[0][0]             \n",
            "__________________________________________________________________________________________________\n",
            "conv2d_413 (Conv2D)             (None, 7, 7, 128)    114688      activation_412[0][0]             \n",
            "__________________________________________________________________________________________________\n",
            "batch_normalization_408 (BatchN (None, 7, 7, 128)    384         conv2d_408[0][0]                 \n",
            "__________________________________________________________________________________________________\n",
            "batch_normalization_413 (BatchN (None, 7, 7, 128)    384         conv2d_413[0][0]                 \n",
            "__________________________________________________________________________________________________\n",
            "activation_408 (Activation)     (None, 7, 7, 128)    0           batch_normalization_408[0][0]    \n",
            "__________________________________________________________________________________________________\n",
            "activation_413 (Activation)     (None, 7, 7, 128)    0           batch_normalization_413[0][0]    \n",
            "__________________________________________________________________________________________________\n",
            "average_pooling2d_40 (AveragePo (None, 7, 7, 768)    0           mixed3[0][0]                     \n",
            "__________________________________________________________________________________________________\n",
            "conv2d_406 (Conv2D)             (None, 7, 7, 192)    147456      mixed3[0][0]                     \n",
            "__________________________________________________________________________________________________\n",
            "conv2d_409 (Conv2D)             (None, 7, 7, 192)    172032      activation_408[0][0]             \n",
            "__________________________________________________________________________________________________\n",
            "conv2d_414 (Conv2D)             (None, 7, 7, 192)    172032      activation_413[0][0]             \n",
            "__________________________________________________________________________________________________\n",
            "conv2d_415 (Conv2D)             (None, 7, 7, 192)    147456      average_pooling2d_40[0][0]       \n",
            "__________________________________________________________________________________________________\n",
            "batch_normalization_406 (BatchN (None, 7, 7, 192)    576         conv2d_406[0][0]                 \n",
            "__________________________________________________________________________________________________\n",
            "batch_normalization_409 (BatchN (None, 7, 7, 192)    576         conv2d_409[0][0]                 \n",
            "__________________________________________________________________________________________________\n",
            "batch_normalization_414 (BatchN (None, 7, 7, 192)    576         conv2d_414[0][0]                 \n",
            "__________________________________________________________________________________________________\n",
            "batch_normalization_415 (BatchN (None, 7, 7, 192)    576         conv2d_415[0][0]                 \n",
            "__________________________________________________________________________________________________\n",
            "activation_406 (Activation)     (None, 7, 7, 192)    0           batch_normalization_406[0][0]    \n",
            "__________________________________________________________________________________________________\n",
            "activation_409 (Activation)     (None, 7, 7, 192)    0           batch_normalization_409[0][0]    \n",
            "__________________________________________________________________________________________________\n",
            "activation_414 (Activation)     (None, 7, 7, 192)    0           batch_normalization_414[0][0]    \n",
            "__________________________________________________________________________________________________\n",
            "activation_415 (Activation)     (None, 7, 7, 192)    0           batch_normalization_415[0][0]    \n",
            "__________________________________________________________________________________________________\n",
            "mixed4 (Concatenate)            (None, 7, 7, 768)    0           activation_406[0][0]             \n",
            "                                                                 activation_409[0][0]             \n",
            "                                                                 activation_414[0][0]             \n",
            "                                                                 activation_415[0][0]             \n",
            "__________________________________________________________________________________________________\n",
            "conv2d_420 (Conv2D)             (None, 7, 7, 160)    122880      mixed4[0][0]                     \n",
            "__________________________________________________________________________________________________\n",
            "batch_normalization_420 (BatchN (None, 7, 7, 160)    480         conv2d_420[0][0]                 \n",
            "__________________________________________________________________________________________________\n",
            "activation_420 (Activation)     (None, 7, 7, 160)    0           batch_normalization_420[0][0]    \n",
            "__________________________________________________________________________________________________\n",
            "conv2d_421 (Conv2D)             (None, 7, 7, 160)    179200      activation_420[0][0]             \n",
            "__________________________________________________________________________________________________\n",
            "batch_normalization_421 (BatchN (None, 7, 7, 160)    480         conv2d_421[0][0]                 \n",
            "__________________________________________________________________________________________________\n",
            "activation_421 (Activation)     (None, 7, 7, 160)    0           batch_normalization_421[0][0]    \n",
            "__________________________________________________________________________________________________\n",
            "conv2d_417 (Conv2D)             (None, 7, 7, 160)    122880      mixed4[0][0]                     \n",
            "__________________________________________________________________________________________________\n",
            "conv2d_422 (Conv2D)             (None, 7, 7, 160)    179200      activation_421[0][0]             \n",
            "__________________________________________________________________________________________________\n",
            "batch_normalization_417 (BatchN (None, 7, 7, 160)    480         conv2d_417[0][0]                 \n",
            "__________________________________________________________________________________________________\n",
            "batch_normalization_422 (BatchN (None, 7, 7, 160)    480         conv2d_422[0][0]                 \n",
            "__________________________________________________________________________________________________\n",
            "activation_417 (Activation)     (None, 7, 7, 160)    0           batch_normalization_417[0][0]    \n",
            "__________________________________________________________________________________________________\n",
            "activation_422 (Activation)     (None, 7, 7, 160)    0           batch_normalization_422[0][0]    \n",
            "__________________________________________________________________________________________________\n",
            "conv2d_418 (Conv2D)             (None, 7, 7, 160)    179200      activation_417[0][0]             \n",
            "__________________________________________________________________________________________________\n",
            "conv2d_423 (Conv2D)             (None, 7, 7, 160)    179200      activation_422[0][0]             \n",
            "__________________________________________________________________________________________________\n",
            "batch_normalization_418 (BatchN (None, 7, 7, 160)    480         conv2d_418[0][0]                 \n",
            "__________________________________________________________________________________________________\n",
            "batch_normalization_423 (BatchN (None, 7, 7, 160)    480         conv2d_423[0][0]                 \n",
            "__________________________________________________________________________________________________\n",
            "activation_418 (Activation)     (None, 7, 7, 160)    0           batch_normalization_418[0][0]    \n",
            "__________________________________________________________________________________________________\n",
            "activation_423 (Activation)     (None, 7, 7, 160)    0           batch_normalization_423[0][0]    \n",
            "__________________________________________________________________________________________________\n",
            "average_pooling2d_41 (AveragePo (None, 7, 7, 768)    0           mixed4[0][0]                     \n",
            "__________________________________________________________________________________________________\n",
            "conv2d_416 (Conv2D)             (None, 7, 7, 192)    147456      mixed4[0][0]                     \n",
            "__________________________________________________________________________________________________\n",
            "conv2d_419 (Conv2D)             (None, 7, 7, 192)    215040      activation_418[0][0]             \n",
            "__________________________________________________________________________________________________\n",
            "conv2d_424 (Conv2D)             (None, 7, 7, 192)    215040      activation_423[0][0]             \n",
            "__________________________________________________________________________________________________\n",
            "conv2d_425 (Conv2D)             (None, 7, 7, 192)    147456      average_pooling2d_41[0][0]       \n",
            "__________________________________________________________________________________________________\n",
            "batch_normalization_416 (BatchN (None, 7, 7, 192)    576         conv2d_416[0][0]                 \n",
            "__________________________________________________________________________________________________\n",
            "batch_normalization_419 (BatchN (None, 7, 7, 192)    576         conv2d_419[0][0]                 \n",
            "__________________________________________________________________________________________________\n",
            "batch_normalization_424 (BatchN (None, 7, 7, 192)    576         conv2d_424[0][0]                 \n",
            "__________________________________________________________________________________________________\n",
            "batch_normalization_425 (BatchN (None, 7, 7, 192)    576         conv2d_425[0][0]                 \n",
            "__________________________________________________________________________________________________\n",
            "activation_416 (Activation)     (None, 7, 7, 192)    0           batch_normalization_416[0][0]    \n",
            "__________________________________________________________________________________________________\n",
            "activation_419 (Activation)     (None, 7, 7, 192)    0           batch_normalization_419[0][0]    \n",
            "__________________________________________________________________________________________________\n",
            "activation_424 (Activation)     (None, 7, 7, 192)    0           batch_normalization_424[0][0]    \n",
            "__________________________________________________________________________________________________\n",
            "activation_425 (Activation)     (None, 7, 7, 192)    0           batch_normalization_425[0][0]    \n",
            "__________________________________________________________________________________________________\n",
            "mixed5 (Concatenate)            (None, 7, 7, 768)    0           activation_416[0][0]             \n",
            "                                                                 activation_419[0][0]             \n",
            "                                                                 activation_424[0][0]             \n",
            "                                                                 activation_425[0][0]             \n",
            "__________________________________________________________________________________________________\n",
            "conv2d_430 (Conv2D)             (None, 7, 7, 160)    122880      mixed5[0][0]                     \n",
            "__________________________________________________________________________________________________\n",
            "batch_normalization_430 (BatchN (None, 7, 7, 160)    480         conv2d_430[0][0]                 \n",
            "__________________________________________________________________________________________________\n",
            "activation_430 (Activation)     (None, 7, 7, 160)    0           batch_normalization_430[0][0]    \n",
            "__________________________________________________________________________________________________\n",
            "conv2d_431 (Conv2D)             (None, 7, 7, 160)    179200      activation_430[0][0]             \n",
            "__________________________________________________________________________________________________\n",
            "batch_normalization_431 (BatchN (None, 7, 7, 160)    480         conv2d_431[0][0]                 \n",
            "__________________________________________________________________________________________________\n",
            "activation_431 (Activation)     (None, 7, 7, 160)    0           batch_normalization_431[0][0]    \n",
            "__________________________________________________________________________________________________\n",
            "conv2d_427 (Conv2D)             (None, 7, 7, 160)    122880      mixed5[0][0]                     \n",
            "__________________________________________________________________________________________________\n",
            "conv2d_432 (Conv2D)             (None, 7, 7, 160)    179200      activation_431[0][0]             \n",
            "__________________________________________________________________________________________________\n",
            "batch_normalization_427 (BatchN (None, 7, 7, 160)    480         conv2d_427[0][0]                 \n",
            "__________________________________________________________________________________________________\n",
            "batch_normalization_432 (BatchN (None, 7, 7, 160)    480         conv2d_432[0][0]                 \n",
            "__________________________________________________________________________________________________\n",
            "activation_427 (Activation)     (None, 7, 7, 160)    0           batch_normalization_427[0][0]    \n",
            "__________________________________________________________________________________________________\n",
            "activation_432 (Activation)     (None, 7, 7, 160)    0           batch_normalization_432[0][0]    \n",
            "__________________________________________________________________________________________________\n",
            "conv2d_428 (Conv2D)             (None, 7, 7, 160)    179200      activation_427[0][0]             \n",
            "__________________________________________________________________________________________________\n",
            "conv2d_433 (Conv2D)             (None, 7, 7, 160)    179200      activation_432[0][0]             \n",
            "__________________________________________________________________________________________________\n",
            "batch_normalization_428 (BatchN (None, 7, 7, 160)    480         conv2d_428[0][0]                 \n",
            "__________________________________________________________________________________________________\n",
            "batch_normalization_433 (BatchN (None, 7, 7, 160)    480         conv2d_433[0][0]                 \n",
            "__________________________________________________________________________________________________\n",
            "activation_428 (Activation)     (None, 7, 7, 160)    0           batch_normalization_428[0][0]    \n",
            "__________________________________________________________________________________________________\n",
            "activation_433 (Activation)     (None, 7, 7, 160)    0           batch_normalization_433[0][0]    \n",
            "__________________________________________________________________________________________________\n",
            "average_pooling2d_42 (AveragePo (None, 7, 7, 768)    0           mixed5[0][0]                     \n",
            "__________________________________________________________________________________________________\n",
            "conv2d_426 (Conv2D)             (None, 7, 7, 192)    147456      mixed5[0][0]                     \n",
            "__________________________________________________________________________________________________\n",
            "conv2d_429 (Conv2D)             (None, 7, 7, 192)    215040      activation_428[0][0]             \n",
            "__________________________________________________________________________________________________\n",
            "conv2d_434 (Conv2D)             (None, 7, 7, 192)    215040      activation_433[0][0]             \n",
            "__________________________________________________________________________________________________\n",
            "conv2d_435 (Conv2D)             (None, 7, 7, 192)    147456      average_pooling2d_42[0][0]       \n",
            "__________________________________________________________________________________________________\n",
            "batch_normalization_426 (BatchN (None, 7, 7, 192)    576         conv2d_426[0][0]                 \n",
            "__________________________________________________________________________________________________\n",
            "batch_normalization_429 (BatchN (None, 7, 7, 192)    576         conv2d_429[0][0]                 \n",
            "__________________________________________________________________________________________________\n",
            "batch_normalization_434 (BatchN (None, 7, 7, 192)    576         conv2d_434[0][0]                 \n",
            "__________________________________________________________________________________________________\n",
            "batch_normalization_435 (BatchN (None, 7, 7, 192)    576         conv2d_435[0][0]                 \n",
            "__________________________________________________________________________________________________\n",
            "activation_426 (Activation)     (None, 7, 7, 192)    0           batch_normalization_426[0][0]    \n",
            "__________________________________________________________________________________________________\n",
            "activation_429 (Activation)     (None, 7, 7, 192)    0           batch_normalization_429[0][0]    \n",
            "__________________________________________________________________________________________________\n",
            "activation_434 (Activation)     (None, 7, 7, 192)    0           batch_normalization_434[0][0]    \n",
            "__________________________________________________________________________________________________\n",
            "activation_435 (Activation)     (None, 7, 7, 192)    0           batch_normalization_435[0][0]    \n",
            "__________________________________________________________________________________________________\n",
            "mixed6 (Concatenate)            (None, 7, 7, 768)    0           activation_426[0][0]             \n",
            "                                                                 activation_429[0][0]             \n",
            "                                                                 activation_434[0][0]             \n",
            "                                                                 activation_435[0][0]             \n",
            "__________________________________________________________________________________________________\n",
            "conv2d_440 (Conv2D)             (None, 7, 7, 192)    147456      mixed6[0][0]                     \n",
            "__________________________________________________________________________________________________\n",
            "batch_normalization_440 (BatchN (None, 7, 7, 192)    576         conv2d_440[0][0]                 \n",
            "__________________________________________________________________________________________________\n",
            "activation_440 (Activation)     (None, 7, 7, 192)    0           batch_normalization_440[0][0]    \n",
            "__________________________________________________________________________________________________\n",
            "conv2d_441 (Conv2D)             (None, 7, 7, 192)    258048      activation_440[0][0]             \n",
            "__________________________________________________________________________________________________\n",
            "batch_normalization_441 (BatchN (None, 7, 7, 192)    576         conv2d_441[0][0]                 \n",
            "__________________________________________________________________________________________________\n",
            "activation_441 (Activation)     (None, 7, 7, 192)    0           batch_normalization_441[0][0]    \n",
            "__________________________________________________________________________________________________\n",
            "conv2d_437 (Conv2D)             (None, 7, 7, 192)    147456      mixed6[0][0]                     \n",
            "__________________________________________________________________________________________________\n",
            "conv2d_442 (Conv2D)             (None, 7, 7, 192)    258048      activation_441[0][0]             \n",
            "__________________________________________________________________________________________________\n",
            "batch_normalization_437 (BatchN (None, 7, 7, 192)    576         conv2d_437[0][0]                 \n",
            "__________________________________________________________________________________________________\n",
            "batch_normalization_442 (BatchN (None, 7, 7, 192)    576         conv2d_442[0][0]                 \n",
            "__________________________________________________________________________________________________\n",
            "activation_437 (Activation)     (None, 7, 7, 192)    0           batch_normalization_437[0][0]    \n",
            "__________________________________________________________________________________________________\n",
            "activation_442 (Activation)     (None, 7, 7, 192)    0           batch_normalization_442[0][0]    \n",
            "__________________________________________________________________________________________________\n",
            "conv2d_438 (Conv2D)             (None, 7, 7, 192)    258048      activation_437[0][0]             \n",
            "__________________________________________________________________________________________________\n",
            "conv2d_443 (Conv2D)             (None, 7, 7, 192)    258048      activation_442[0][0]             \n",
            "__________________________________________________________________________________________________\n",
            "batch_normalization_438 (BatchN (None, 7, 7, 192)    576         conv2d_438[0][0]                 \n",
            "__________________________________________________________________________________________________\n",
            "batch_normalization_443 (BatchN (None, 7, 7, 192)    576         conv2d_443[0][0]                 \n",
            "__________________________________________________________________________________________________\n",
            "activation_438 (Activation)     (None, 7, 7, 192)    0           batch_normalization_438[0][0]    \n",
            "__________________________________________________________________________________________________\n",
            "activation_443 (Activation)     (None, 7, 7, 192)    0           batch_normalization_443[0][0]    \n",
            "__________________________________________________________________________________________________\n",
            "average_pooling2d_43 (AveragePo (None, 7, 7, 768)    0           mixed6[0][0]                     \n",
            "__________________________________________________________________________________________________\n",
            "conv2d_436 (Conv2D)             (None, 7, 7, 192)    147456      mixed6[0][0]                     \n",
            "__________________________________________________________________________________________________\n",
            "conv2d_439 (Conv2D)             (None, 7, 7, 192)    258048      activation_438[0][0]             \n",
            "__________________________________________________________________________________________________\n",
            "conv2d_444 (Conv2D)             (None, 7, 7, 192)    258048      activation_443[0][0]             \n",
            "__________________________________________________________________________________________________\n",
            "conv2d_445 (Conv2D)             (None, 7, 7, 192)    147456      average_pooling2d_43[0][0]       \n",
            "__________________________________________________________________________________________________\n",
            "batch_normalization_436 (BatchN (None, 7, 7, 192)    576         conv2d_436[0][0]                 \n",
            "__________________________________________________________________________________________________\n",
            "batch_normalization_439 (BatchN (None, 7, 7, 192)    576         conv2d_439[0][0]                 \n",
            "__________________________________________________________________________________________________\n",
            "batch_normalization_444 (BatchN (None, 7, 7, 192)    576         conv2d_444[0][0]                 \n",
            "__________________________________________________________________________________________________\n",
            "batch_normalization_445 (BatchN (None, 7, 7, 192)    576         conv2d_445[0][0]                 \n",
            "__________________________________________________________________________________________________\n",
            "activation_436 (Activation)     (None, 7, 7, 192)    0           batch_normalization_436[0][0]    \n",
            "__________________________________________________________________________________________________\n",
            "activation_439 (Activation)     (None, 7, 7, 192)    0           batch_normalization_439[0][0]    \n",
            "__________________________________________________________________________________________________\n",
            "activation_444 (Activation)     (None, 7, 7, 192)    0           batch_normalization_444[0][0]    \n",
            "__________________________________________________________________________________________________\n",
            "activation_445 (Activation)     (None, 7, 7, 192)    0           batch_normalization_445[0][0]    \n",
            "__________________________________________________________________________________________________\n",
            "mixed7 (Concatenate)            (None, 7, 7, 768)    0           activation_436[0][0]             \n",
            "                                                                 activation_439[0][0]             \n",
            "                                                                 activation_444[0][0]             \n",
            "                                                                 activation_445[0][0]             \n",
            "__________________________________________________________________________________________________\n",
            "conv2d_448 (Conv2D)             (None, 7, 7, 192)    147456      mixed7[0][0]                     \n",
            "__________________________________________________________________________________________________\n",
            "batch_normalization_448 (BatchN (None, 7, 7, 192)    576         conv2d_448[0][0]                 \n",
            "__________________________________________________________________________________________________\n",
            "activation_448 (Activation)     (None, 7, 7, 192)    0           batch_normalization_448[0][0]    \n",
            "__________________________________________________________________________________________________\n",
            "conv2d_449 (Conv2D)             (None, 7, 7, 192)    258048      activation_448[0][0]             \n",
            "__________________________________________________________________________________________________\n",
            "batch_normalization_449 (BatchN (None, 7, 7, 192)    576         conv2d_449[0][0]                 \n",
            "__________________________________________________________________________________________________\n",
            "activation_449 (Activation)     (None, 7, 7, 192)    0           batch_normalization_449[0][0]    \n",
            "__________________________________________________________________________________________________\n",
            "conv2d_446 (Conv2D)             (None, 7, 7, 192)    147456      mixed7[0][0]                     \n",
            "__________________________________________________________________________________________________\n",
            "conv2d_450 (Conv2D)             (None, 7, 7, 192)    258048      activation_449[0][0]             \n",
            "__________________________________________________________________________________________________\n",
            "batch_normalization_446 (BatchN (None, 7, 7, 192)    576         conv2d_446[0][0]                 \n",
            "__________________________________________________________________________________________________\n",
            "batch_normalization_450 (BatchN (None, 7, 7, 192)    576         conv2d_450[0][0]                 \n",
            "__________________________________________________________________________________________________\n",
            "activation_446 (Activation)     (None, 7, 7, 192)    0           batch_normalization_446[0][0]    \n",
            "__________________________________________________________________________________________________\n",
            "activation_450 (Activation)     (None, 7, 7, 192)    0           batch_normalization_450[0][0]    \n",
            "__________________________________________________________________________________________________\n",
            "conv2d_447 (Conv2D)             (None, 3, 3, 320)    552960      activation_446[0][0]             \n",
            "__________________________________________________________________________________________________\n",
            "conv2d_451 (Conv2D)             (None, 3, 3, 192)    331776      activation_450[0][0]             \n",
            "__________________________________________________________________________________________________\n",
            "batch_normalization_447 (BatchN (None, 3, 3, 320)    960         conv2d_447[0][0]                 \n",
            "__________________________________________________________________________________________________\n",
            "batch_normalization_451 (BatchN (None, 3, 3, 192)    576         conv2d_451[0][0]                 \n",
            "__________________________________________________________________________________________________\n",
            "activation_447 (Activation)     (None, 3, 3, 320)    0           batch_normalization_447[0][0]    \n",
            "__________________________________________________________________________________________________\n",
            "activation_451 (Activation)     (None, 3, 3, 192)    0           batch_normalization_451[0][0]    \n",
            "__________________________________________________________________________________________________\n",
            "max_pooling2d_19 (MaxPooling2D) (None, 3, 3, 768)    0           mixed7[0][0]                     \n",
            "__________________________________________________________________________________________________\n",
            "mixed8 (Concatenate)            (None, 3, 3, 1280)   0           activation_447[0][0]             \n",
            "                                                                 activation_451[0][0]             \n",
            "                                                                 max_pooling2d_19[0][0]           \n",
            "__________________________________________________________________________________________________\n",
            "conv2d_456 (Conv2D)             (None, 3, 3, 448)    573440      mixed8[0][0]                     \n",
            "__________________________________________________________________________________________________\n",
            "batch_normalization_456 (BatchN (None, 3, 3, 448)    1344        conv2d_456[0][0]                 \n",
            "__________________________________________________________________________________________________\n",
            "activation_456 (Activation)     (None, 3, 3, 448)    0           batch_normalization_456[0][0]    \n",
            "__________________________________________________________________________________________________\n",
            "conv2d_453 (Conv2D)             (None, 3, 3, 384)    491520      mixed8[0][0]                     \n",
            "__________________________________________________________________________________________________\n",
            "conv2d_457 (Conv2D)             (None, 3, 3, 384)    1548288     activation_456[0][0]             \n",
            "__________________________________________________________________________________________________\n",
            "batch_normalization_453 (BatchN (None, 3, 3, 384)    1152        conv2d_453[0][0]                 \n",
            "__________________________________________________________________________________________________\n",
            "batch_normalization_457 (BatchN (None, 3, 3, 384)    1152        conv2d_457[0][0]                 \n",
            "__________________________________________________________________________________________________\n",
            "activation_453 (Activation)     (None, 3, 3, 384)    0           batch_normalization_453[0][0]    \n",
            "__________________________________________________________________________________________________\n",
            "activation_457 (Activation)     (None, 3, 3, 384)    0           batch_normalization_457[0][0]    \n",
            "__________________________________________________________________________________________________\n",
            "conv2d_454 (Conv2D)             (None, 3, 3, 384)    442368      activation_453[0][0]             \n",
            "__________________________________________________________________________________________________\n",
            "conv2d_455 (Conv2D)             (None, 3, 3, 384)    442368      activation_453[0][0]             \n",
            "__________________________________________________________________________________________________\n",
            "conv2d_458 (Conv2D)             (None, 3, 3, 384)    442368      activation_457[0][0]             \n",
            "__________________________________________________________________________________________________\n",
            "conv2d_459 (Conv2D)             (None, 3, 3, 384)    442368      activation_457[0][0]             \n",
            "__________________________________________________________________________________________________\n",
            "average_pooling2d_44 (AveragePo (None, 3, 3, 1280)   0           mixed8[0][0]                     \n",
            "__________________________________________________________________________________________________\n",
            "conv2d_452 (Conv2D)             (None, 3, 3, 320)    409600      mixed8[0][0]                     \n",
            "__________________________________________________________________________________________________\n",
            "batch_normalization_454 (BatchN (None, 3, 3, 384)    1152        conv2d_454[0][0]                 \n",
            "__________________________________________________________________________________________________\n",
            "batch_normalization_455 (BatchN (None, 3, 3, 384)    1152        conv2d_455[0][0]                 \n",
            "__________________________________________________________________________________________________\n",
            "batch_normalization_458 (BatchN (None, 3, 3, 384)    1152        conv2d_458[0][0]                 \n",
            "__________________________________________________________________________________________________\n",
            "batch_normalization_459 (BatchN (None, 3, 3, 384)    1152        conv2d_459[0][0]                 \n",
            "__________________________________________________________________________________________________\n",
            "conv2d_460 (Conv2D)             (None, 3, 3, 192)    245760      average_pooling2d_44[0][0]       \n",
            "__________________________________________________________________________________________________\n",
            "batch_normalization_452 (BatchN (None, 3, 3, 320)    960         conv2d_452[0][0]                 \n",
            "__________________________________________________________________________________________________\n",
            "activation_454 (Activation)     (None, 3, 3, 384)    0           batch_normalization_454[0][0]    \n",
            "__________________________________________________________________________________________________\n",
            "activation_455 (Activation)     (None, 3, 3, 384)    0           batch_normalization_455[0][0]    \n",
            "__________________________________________________________________________________________________\n",
            "activation_458 (Activation)     (None, 3, 3, 384)    0           batch_normalization_458[0][0]    \n",
            "__________________________________________________________________________________________________\n",
            "activation_459 (Activation)     (None, 3, 3, 384)    0           batch_normalization_459[0][0]    \n",
            "__________________________________________________________________________________________________\n",
            "batch_normalization_460 (BatchN (None, 3, 3, 192)    576         conv2d_460[0][0]                 \n",
            "__________________________________________________________________________________________________\n",
            "activation_452 (Activation)     (None, 3, 3, 320)    0           batch_normalization_452[0][0]    \n",
            "__________________________________________________________________________________________________\n",
            "mixed9_0 (Concatenate)          (None, 3, 3, 768)    0           activation_454[0][0]             \n",
            "                                                                 activation_455[0][0]             \n",
            "__________________________________________________________________________________________________\n",
            "concatenate_10 (Concatenate)    (None, 3, 3, 768)    0           activation_458[0][0]             \n",
            "                                                                 activation_459[0][0]             \n",
            "__________________________________________________________________________________________________\n",
            "activation_460 (Activation)     (None, 3, 3, 192)    0           batch_normalization_460[0][0]    \n",
            "__________________________________________________________________________________________________\n",
            "mixed9 (Concatenate)            (None, 3, 3, 2048)   0           activation_452[0][0]             \n",
            "                                                                 mixed9_0[0][0]                   \n",
            "                                                                 concatenate_10[0][0]             \n",
            "                                                                 activation_460[0][0]             \n",
            "__________________________________________________________________________________________________\n",
            "conv2d_465 (Conv2D)             (None, 3, 3, 448)    917504      mixed9[0][0]                     \n",
            "__________________________________________________________________________________________________\n",
            "batch_normalization_465 (BatchN (None, 3, 3, 448)    1344        conv2d_465[0][0]                 \n",
            "__________________________________________________________________________________________________\n",
            "activation_465 (Activation)     (None, 3, 3, 448)    0           batch_normalization_465[0][0]    \n",
            "__________________________________________________________________________________________________\n",
            "conv2d_462 (Conv2D)             (None, 3, 3, 384)    786432      mixed9[0][0]                     \n",
            "__________________________________________________________________________________________________\n",
            "conv2d_466 (Conv2D)             (None, 3, 3, 384)    1548288     activation_465[0][0]             \n",
            "__________________________________________________________________________________________________\n",
            "batch_normalization_462 (BatchN (None, 3, 3, 384)    1152        conv2d_462[0][0]                 \n",
            "__________________________________________________________________________________________________\n",
            "batch_normalization_466 (BatchN (None, 3, 3, 384)    1152        conv2d_466[0][0]                 \n",
            "__________________________________________________________________________________________________\n",
            "activation_462 (Activation)     (None, 3, 3, 384)    0           batch_normalization_462[0][0]    \n",
            "__________________________________________________________________________________________________\n",
            "activation_466 (Activation)     (None, 3, 3, 384)    0           batch_normalization_466[0][0]    \n",
            "__________________________________________________________________________________________________\n",
            "conv2d_463 (Conv2D)             (None, 3, 3, 384)    442368      activation_462[0][0]             \n",
            "__________________________________________________________________________________________________\n",
            "conv2d_464 (Conv2D)             (None, 3, 3, 384)    442368      activation_462[0][0]             \n",
            "__________________________________________________________________________________________________\n",
            "conv2d_467 (Conv2D)             (None, 3, 3, 384)    442368      activation_466[0][0]             \n",
            "__________________________________________________________________________________________________\n",
            "conv2d_468 (Conv2D)             (None, 3, 3, 384)    442368      activation_466[0][0]             \n",
            "__________________________________________________________________________________________________\n",
            "average_pooling2d_45 (AveragePo (None, 3, 3, 2048)   0           mixed9[0][0]                     \n",
            "__________________________________________________________________________________________________\n",
            "conv2d_461 (Conv2D)             (None, 3, 3, 320)    655360      mixed9[0][0]                     \n",
            "__________________________________________________________________________________________________\n",
            "batch_normalization_463 (BatchN (None, 3, 3, 384)    1152        conv2d_463[0][0]                 \n",
            "__________________________________________________________________________________________________\n",
            "batch_normalization_464 (BatchN (None, 3, 3, 384)    1152        conv2d_464[0][0]                 \n",
            "__________________________________________________________________________________________________\n",
            "batch_normalization_467 (BatchN (None, 3, 3, 384)    1152        conv2d_467[0][0]                 \n",
            "__________________________________________________________________________________________________\n",
            "batch_normalization_468 (BatchN (None, 3, 3, 384)    1152        conv2d_468[0][0]                 \n",
            "__________________________________________________________________________________________________\n",
            "conv2d_469 (Conv2D)             (None, 3, 3, 192)    393216      average_pooling2d_45[0][0]       \n",
            "__________________________________________________________________________________________________\n",
            "batch_normalization_461 (BatchN (None, 3, 3, 320)    960         conv2d_461[0][0]                 \n",
            "__________________________________________________________________________________________________\n",
            "activation_463 (Activation)     (None, 3, 3, 384)    0           batch_normalization_463[0][0]    \n",
            "__________________________________________________________________________________________________\n",
            "activation_464 (Activation)     (None, 3, 3, 384)    0           batch_normalization_464[0][0]    \n",
            "__________________________________________________________________________________________________\n",
            "activation_467 (Activation)     (None, 3, 3, 384)    0           batch_normalization_467[0][0]    \n",
            "__________________________________________________________________________________________________\n",
            "activation_468 (Activation)     (None, 3, 3, 384)    0           batch_normalization_468[0][0]    \n",
            "__________________________________________________________________________________________________\n",
            "batch_normalization_469 (BatchN (None, 3, 3, 192)    576         conv2d_469[0][0]                 \n",
            "__________________________________________________________________________________________________\n",
            "activation_461 (Activation)     (None, 3, 3, 320)    0           batch_normalization_461[0][0]    \n",
            "__________________________________________________________________________________________________\n",
            "mixed9_1 (Concatenate)          (None, 3, 3, 768)    0           activation_463[0][0]             \n",
            "                                                                 activation_464[0][0]             \n",
            "__________________________________________________________________________________________________\n",
            "concatenate_11 (Concatenate)    (None, 3, 3, 768)    0           activation_467[0][0]             \n",
            "                                                                 activation_468[0][0]             \n",
            "__________________________________________________________________________________________________\n",
            "activation_469 (Activation)     (None, 3, 3, 192)    0           batch_normalization_469[0][0]    \n",
            "__________________________________________________________________________________________________\n",
            "mixed10 (Concatenate)           (None, 3, 3, 2048)   0           activation_461[0][0]             \n",
            "                                                                 mixed9_1[0][0]                   \n",
            "                                                                 concatenate_11[0][0]             \n",
            "                                                                 activation_469[0][0]             \n",
            "__________________________________________________________________________________________________\n",
            "average_pooling2d_46 (AveragePo (None, 1, 1, 2048)   0           mixed10[0][0]                    \n",
            "__________________________________________________________________________________________________\n",
            "flatten_4 (Flatten)             (None, 2048)         0           average_pooling2d_46[0][0]       \n",
            "__________________________________________________________________________________________________\n",
            "dense_12 (Dense)                (None, 1000)         2049000     flatten_4[0][0]                  \n",
            "__________________________________________________________________________________________________\n",
            "dense_13 (Dense)                (None, 1000)         1001000     dense_12[0][0]                   \n",
            "__________________________________________________________________________________________________\n",
            "dense_14 (Dense)                (None, 1)            1001        dense_13[0][0]                   \n",
            "==================================================================================================\n",
            "Total params: 24,853,785\n",
            "Trainable params: 24,819,353\n",
            "Non-trainable params: 34,432\n",
            "__________________________________________________________________________________________________\n"
          ],
          "name": "stdout"
        }
      ]
    },
    {
      "cell_type": "markdown",
      "metadata": {
        "id": "L_D5GmqD2dy0"
      },
      "source": [
        "##**data augmantation**\n",
        "\n"
      ]
    },
    {
      "cell_type": "code",
      "metadata": {
        "id": "jQI12ewL6Nw6"
      },
      "source": [
        "datagen = ImageDataGenerator(  # 1\n",
        "    featurewise_center=False,\n",
        "    samplewise_center=False,\n",
        "    featurewise_std_normalization=False,\n",
        "    samplewise_std_normalization=False,\n",
        "    zca_whitening=False,\n",
        "    rotation_range=20,\n",
        "    zoom_range=0.2,\n",
        "    width_shift_range=0.2,\n",
        "    height_shift_range=0.2,\n",
        "    horizontal_flip=True,\n",
        "    vertical_flip=False)\n",
        "datagen.fit(training_data)"
      ],
      "execution_count": null,
      "outputs": []
    },
    {
      "cell_type": "code",
      "metadata": {
        "id": "HNYRFGyExtmW",
        "outputId": "cb346e88-31ee-4101-c3c5-85474440b87f",
        "colab": {
          "base_uri": "https://localhost:8080/",
          "height": 286
        }
      },
      "source": [
        "%pylab inline\n",
        "import matplotlib.pyplot as plt\n",
        "import matplotlib.image as mpimg\n",
        "img = mpimg.imread('/content/augmented/_10129_3047768.png')\n",
        "imgplot = plt.imshow(img)\n"
      ],
      "execution_count": null,
      "outputs": [
        {
          "output_type": "stream",
          "text": [
            "Populating the interactive namespace from numpy and matplotlib\n"
          ],
          "name": "stdout"
        },
        {
          "output_type": "display_data",
          "data": {
            "image/png": "[encoded data removed]",
            "text/plain": [
              "<Figure size 432x288 with 1 Axes>"
            ]
          },
          "metadata": {
            "tags": [],
            "needs_background": "light"
          }
        }
      ]
    },
    {
      "cell_type": "code",
      "metadata": {
        "id": "0IMy-rXb1wWQ",
        "outputId": "7e9557a7-5a67-4ab2-df63-6383e3b8f45b",
        "colab": {
          "base_uri": "https://localhost:8080/",
          "height": 316
        }
      },
      "source": [
        "img = Image.open('/content/augmented/_10129_3047768.png')\n",
        "img"
      ],
      "execution_count": null,
      "outputs": [
        {
          "output_type": "execute_result",
          "data": {
            "image/png": "[encoded data removed]",
            "text/plain": [
              "<PIL.PngImagePlugin.PngImageFile image mode=RGB size=299x299 at 0x7FC9CAA9BA90>"
            ]
          },
          "metadata": {
            "tags": []
          },
          "execution_count": 64
        }
      ]
    },
    {
      "cell_type": "markdown",
      "metadata": {
        "id": "-CyQt7Hx3hHL"
      },
      "source": [
        "##training the model\n",
        "\n"
      ]
    },
    {
      "cell_type": "code",
      "metadata": {
        "id": "fYwj40s32J1G"
      },
      "source": [
        "#callbacks\n",
        "history = History()\n",
        "logger = CSVLogger('/content/drive/My Drive/Projects/bone_age_prediction/logs/training.log', separator=',', append=False)\n",
        "earlystopping = EarlyStopping(monitor='val_loss', min_delta=0.01, patience=10, verbose=10, mode='min')\n",
        "checkpoint = ModelCheckpoint('/content/drive/My Drive/Projects/bone_age_prediction/checkpoint '+ 'weights-{epoch:02d}-{val_loss:.2f}.h5', monitor='val_loss', save_best_only=True, verbose=1, mode='min')\n",
        "reduceLROnPlat = ReduceLROnPlateau(monitor='val_loss', factor=0.8, patience=10, verbose=1, mode='auto', min_delta=0.0001, cooldown=5, min_lr=0.0001)"
      ],
      "execution_count": null,
      "outputs": []
    },
    {
      "cell_type": "code",
      "metadata": {
        "id": "UpQJsxx06urP",
        "outputId": "a14e2bd7-8ef7-44d6-cb8c-0321200daaf9",
        "colab": {
          "base_uri": "https://localhost:8080/",
          "height": 1000
        }
      },
      "source": [
        "model.fit_generator(datagen.flow(training_data, boneage_train, batch_size=16),\n",
        "                    steps_per_epoch = 600,\n",
        "                    epochs=100,\n",
        "                    callbacks=[history, logger, checkpoint, reduceLROnPlat],\n",
        "                    validation_data=(validation_data, boneage_val),\n",
        "                    verbose=1)"
      ],
      "execution_count": null,
      "outputs": [
        {
          "output_type": "stream",
          "text": [
            "Epoch 1/100\n",
            "600/600 [==============================] - ETA: 0s - loss: 36.1970 - mae: 36.1970\n",
            "Epoch 00001: val_loss improved from inf to 76.62642, saving model to /content/drive/My Drive/Projects/bone_age_prediction/checkpoint weights-01-76.63.h5\n",
            "600/600 [==============================] - 67s 111ms/step - loss: 36.1970 - mae: 36.1970 - val_loss: 76.6264 - val_mae: 76.6264\n",
            "Epoch 2/100\n",
            "600/600 [==============================] - ETA: 0s - loss: 33.5738 - mae: 33.5738\n",
            "Epoch 00002: val_loss improved from 76.62642 to 39.79188, saving model to /content/drive/My Drive/Projects/bone_age_prediction/checkpoint weights-02-39.79.h5\n",
            "600/600 [==============================] - 66s 110ms/step - loss: 33.5738 - mae: 33.5738 - val_loss: 39.7919 - val_mae: 39.7919\n",
            "Epoch 3/100\n",
            "600/600 [==============================] - ETA: 0s - loss: 33.6861 - mae: 33.6861\n",
            "Epoch 00003: val_loss did not improve from 39.79188\n",
            "600/600 [==============================] - 63s 105ms/step - loss: 33.6861 - mae: 33.6861 - val_loss: 189.4996 - val_mae: 189.4996\n",
            "Epoch 4/100\n",
            "600/600 [==============================] - ETA: 0s - loss: 33.3107 - mae: 33.3107\n",
            "Epoch 00004: val_loss improved from 39.79188 to 38.56348, saving model to /content/drive/My Drive/Projects/bone_age_prediction/checkpoint weights-04-38.56.h5\n",
            "600/600 [==============================] - 64s 107ms/step - loss: 33.3107 - mae: 33.3107 - val_loss: 38.5635 - val_mae: 38.5635\n",
            "Epoch 5/100\n",
            "600/600 [==============================] - ETA: 0s - loss: 33.5181 - mae: 33.5181\n",
            "Epoch 00005: val_loss improved from 38.56348 to 38.46006, saving model to /content/drive/My Drive/Projects/bone_age_prediction/checkpoint weights-05-38.46.h5\n",
            "600/600 [==============================] - 66s 110ms/step - loss: 33.5181 - mae: 33.5181 - val_loss: 38.4601 - val_mae: 38.4601\n",
            "Epoch 6/100\n",
            "600/600 [==============================] - ETA: 0s - loss: 33.3086 - mae: 33.3086\n",
            "Epoch 00006: val_loss did not improve from 38.46006\n",
            "600/600 [==============================] - 63s 105ms/step - loss: 33.3086 - mae: 33.3086 - val_loss: 38.5544 - val_mae: 38.5544\n",
            "Epoch 7/100\n",
            "600/600 [==============================] - ETA: 0s - loss: 33.2815 - mae: 33.2815\n",
            "Epoch 00007: val_loss did not improve from 38.46006\n",
            "600/600 [==============================] - 62s 104ms/step - loss: 33.2815 - mae: 33.2815 - val_loss: 39.7221 - val_mae: 39.7221\n",
            "Epoch 8/100\n",
            "600/600 [==============================] - ETA: 0s - loss: 33.1324 - mae: 33.1324\n",
            "Epoch 00008: val_loss did not improve from 38.46006\n",
            "600/600 [==============================] - 62s 104ms/step - loss: 33.1324 - mae: 33.1324 - val_loss: 173.5742 - val_mae: 173.5742\n",
            "Epoch 9/100\n",
            "600/600 [==============================] - ETA: 0s - loss: 33.4396 - mae: 33.4396\n",
            "Epoch 00009: val_loss did not improve from 38.46006\n",
            "600/600 [==============================] - 62s 104ms/step - loss: 33.4396 - mae: 33.4396 - val_loss: 38.8066 - val_mae: 38.8066\n",
            "Epoch 10/100\n",
            "600/600 [==============================] - ETA: 0s - loss: 32.9582 - mae: 32.9582\n",
            "Epoch 00010: val_loss did not improve from 38.46006\n",
            "600/600 [==============================] - 63s 104ms/step - loss: 32.9582 - mae: 32.9582 - val_loss: 39.6001 - val_mae: 39.6001\n",
            "Epoch 11/100\n",
            "600/600 [==============================] - ETA: 0s - loss: 33.4852 - mae: 33.4852\n",
            "Epoch 00011: val_loss did not improve from 38.46006\n",
            "600/600 [==============================] - 62s 104ms/step - loss: 33.4852 - mae: 33.4852 - val_loss: 40.4857 - val_mae: 40.4857\n",
            "Epoch 12/100\n",
            "600/600 [==============================] - ETA: 0s - loss: 33.1886 - mae: 33.1886\n",
            "Epoch 00012: val_loss did not improve from 38.46006\n",
            "600/600 [==============================] - 62s 104ms/step - loss: 33.1886 - mae: 33.1886 - val_loss: 41.2228 - val_mae: 41.2228\n",
            "Epoch 13/100\n",
            "600/600 [==============================] - ETA: 0s - loss: 33.1516 - mae: 33.1516\n",
            "Epoch 00013: val_loss did not improve from 38.46006\n",
            "600/600 [==============================] - 62s 104ms/step - loss: 33.1516 - mae: 33.1516 - val_loss: 41.3794 - val_mae: 41.3794\n",
            "Epoch 14/100\n",
            "600/600 [==============================] - ETA: 0s - loss: 33.0805 - mae: 33.0805\n",
            "Epoch 00014: val_loss did not improve from 38.46006\n",
            "600/600 [==============================] - 62s 104ms/step - loss: 33.0805 - mae: 33.0805 - val_loss: 38.6257 - val_mae: 38.6257\n",
            "Epoch 15/100\n",
            "600/600 [==============================] - ETA: 0s - loss: 32.9679 - mae: 32.9679\n",
            "Epoch 00015: val_loss did not improve from 38.46006\n",
            "\n",
            "Epoch 00015: ReduceLROnPlateau reducing learning rate to 0.000800000037997961.\n",
            "600/600 [==============================] - 62s 104ms/step - loss: 32.9679 - mae: 32.9679 - val_loss: 38.9656 - val_mae: 38.9656\n",
            "Epoch 16/100\n",
            "600/600 [==============================] - ETA: 0s - loss: 33.1768 - mae: 33.1768\n",
            "Epoch 00016: val_loss did not improve from 38.46006\n",
            "600/600 [==============================] - 62s 104ms/step - loss: 33.1768 - mae: 33.1768 - val_loss: 38.9577 - val_mae: 38.9577\n",
            "Epoch 17/100\n",
            "600/600 [==============================] - ETA: 0s - loss: 32.8489 - mae: 32.8489\n",
            "Epoch 00017: val_loss did not improve from 38.46006\n",
            "600/600 [==============================] - 62s 104ms/step - loss: 32.8489 - mae: 32.8489 - val_loss: 38.6740 - val_mae: 38.6740\n",
            "Epoch 18/100\n",
            "600/600 [==============================] - ETA: 0s - loss: 32.8086 - mae: 32.8086\n",
            "Epoch 00018: val_loss improved from 38.46006 to 38.41510, saving model to /content/drive/My Drive/Projects/bone_age_prediction/checkpoint weights-18-38.42.h5\n",
            "600/600 [==============================] - 64s 107ms/step - loss: 32.8086 - mae: 32.8086 - val_loss: 38.4151 - val_mae: 38.4151\n",
            "Epoch 19/100\n",
            "600/600 [==============================] - ETA: 0s - loss: 33.1013 - mae: 33.1013\n",
            "Epoch 00019: val_loss did not improve from 38.41510\n",
            "600/600 [==============================] - 63s 104ms/step - loss: 33.1013 - mae: 33.1013 - val_loss: 580.0414 - val_mae: 580.0414\n",
            "Epoch 20/100\n",
            "600/600 [==============================] - ETA: 0s - loss: 32.9098 - mae: 32.9098\n",
            "Epoch 00020: val_loss did not improve from 38.41510\n",
            "600/600 [==============================] - 62s 103ms/step - loss: 32.9098 - mae: 32.9098 - val_loss: 53.0605 - val_mae: 53.0605\n",
            "Epoch 21/100\n",
            "600/600 [==============================] - ETA: 0s - loss: 33.2642 - mae: 33.2642\n",
            "Epoch 00021: val_loss did not improve from 38.41510\n",
            "600/600 [==============================] - 62s 103ms/step - loss: 33.2642 - mae: 33.2642 - val_loss: 38.5466 - val_mae: 38.5466\n",
            "Epoch 22/100\n",
            "600/600 [==============================] - ETA: 0s - loss: 32.7167 - mae: 32.7167\n",
            "Epoch 00022: val_loss improved from 38.41510 to 38.20825, saving model to /content/drive/My Drive/Projects/bone_age_prediction/checkpoint weights-22-38.21.h5\n",
            "600/600 [==============================] - 64s 106ms/step - loss: 32.7167 - mae: 32.7167 - val_loss: 38.2082 - val_mae: 38.2082\n",
            "Epoch 23/100\n",
            "600/600 [==============================] - ETA: 0s - loss: 32.7498 - mae: 32.7498\n",
            "Epoch 00023: val_loss did not improve from 38.20825\n",
            "600/600 [==============================] - 62s 103ms/step - loss: 32.7498 - mae: 32.7498 - val_loss: 38.2907 - val_mae: 38.2907\n",
            "Epoch 24/100\n",
            "600/600 [==============================] - ETA: 0s - loss: 32.9517 - mae: 32.9517\n",
            "Epoch 00024: val_loss did not improve from 38.20825\n",
            "600/600 [==============================] - 61s 102ms/step - loss: 32.9517 - mae: 32.9517 - val_loss: 38.5718 - val_mae: 38.5718\n",
            "Epoch 25/100\n",
            "600/600 [==============================] - ETA: 0s - loss: 33.0125 - mae: 33.0125\n",
            "Epoch 00025: val_loss did not improve from 38.20825\n",
            "600/600 [==============================] - 61s 102ms/step - loss: 33.0125 - mae: 33.0125 - val_loss: 38.5260 - val_mae: 38.5260\n",
            "Epoch 26/100\n",
            "600/600 [==============================] - ETA: 0s - loss: 32.8635 - mae: 32.8635\n",
            "Epoch 00026: val_loss did not improve from 38.20825\n",
            "600/600 [==============================] - 61s 101ms/step - loss: 32.8635 - mae: 32.8635 - val_loss: 38.2512 - val_mae: 38.2512\n",
            "Epoch 27/100\n",
            "600/600 [==============================] - ETA: 0s - loss: 32.9463 - mae: 32.9463\n",
            "Epoch 00027: val_loss did not improve from 38.20825\n",
            "600/600 [==============================] - 60s 100ms/step - loss: 32.9463 - mae: 32.9463 - val_loss: 39.2355 - val_mae: 39.2355\n",
            "Epoch 28/100\n",
            "600/600 [==============================] - ETA: 0s - loss: 32.6780 - mae: 32.6780\n",
            "Epoch 00028: val_loss did not improve from 38.20825\n",
            "600/600 [==============================] - 59s 99ms/step - loss: 32.6780 - mae: 32.6780 - val_loss: 39.2625 - val_mae: 39.2625\n",
            "Epoch 29/100\n",
            "600/600 [==============================] - ETA: 0s - loss: 32.8583 - mae: 32.8583\n",
            "Epoch 00029: val_loss did not improve from 38.20825\n",
            "600/600 [==============================] - 60s 99ms/step - loss: 32.8583 - mae: 32.8583 - val_loss: 44.3212 - val_mae: 44.3212\n",
            "Epoch 30/100\n",
            "600/600 [==============================] - ETA: 0s - loss: 32.8924 - mae: 32.8924\n",
            "Epoch 00030: val_loss did not improve from 38.20825\n",
            "600/600 [==============================] - 60s 100ms/step - loss: 32.8924 - mae: 32.8924 - val_loss: 46.7702 - val_mae: 46.7702\n",
            "Epoch 31/100\n",
            "600/600 [==============================] - ETA: 0s - loss: 32.6490 - mae: 32.6490\n",
            "Epoch 00031: val_loss did not improve from 38.20825\n",
            "600/600 [==============================] - 60s 100ms/step - loss: 32.6490 - mae: 32.6490 - val_loss: 38.9982 - val_mae: 38.9982\n",
            "Epoch 32/100\n",
            "600/600 [==============================] - ETA: 0s - loss: 32.9215 - mae: 32.9215\n",
            "Epoch 00032: val_loss did not improve from 38.20825\n",
            "\n",
            "Epoch 00032: ReduceLROnPlateau reducing learning rate to 0.0006400000303983689.\n",
            "600/600 [==============================] - 60s 99ms/step - loss: 32.9215 - mae: 32.9215 - val_loss: 38.9333 - val_mae: 38.9333\n",
            "Epoch 33/100\n",
            "600/600 [==============================] - ETA: 0s - loss: 32.7933 - mae: 32.7933\n",
            "Epoch 00033: val_loss did not improve from 38.20825\n",
            "600/600 [==============================] - 60s 100ms/step - loss: 32.7933 - mae: 32.7933 - val_loss: 38.2937 - val_mae: 38.2937\n",
            "Epoch 34/100\n",
            "600/600 [==============================] - ETA: 0s - loss: 32.5988 - mae: 32.5988\n",
            "Epoch 00034: val_loss did not improve from 38.20825\n",
            "600/600 [==============================] - 60s 100ms/step - loss: 32.5988 - mae: 32.5988 - val_loss: 38.5178 - val_mae: 38.5178\n",
            "Epoch 35/100\n",
            "600/600 [==============================] - ETA: 0s - loss: 32.7350 - mae: 32.7350\n",
            "Epoch 00035: val_loss did not improve from 38.20825\n",
            "600/600 [==============================] - 60s 100ms/step - loss: 32.7350 - mae: 32.7350 - val_loss: 38.4293 - val_mae: 38.4293\n",
            "Epoch 36/100\n",
            "600/600 [==============================] - ETA: 0s - loss: 32.8340 - mae: 32.8340\n",
            "Epoch 00036: val_loss did not improve from 38.20825\n",
            "600/600 [==============================] - 60s 100ms/step - loss: 32.8340 - mae: 32.8340 - val_loss: 38.3857 - val_mae: 38.3857\n",
            "Epoch 37/100\n",
            "600/600 [==============================] - ETA: 0s - loss: 32.8495 - mae: 32.8495\n",
            "Epoch 00037: val_loss did not improve from 38.20825\n",
            "600/600 [==============================] - 60s 101ms/step - loss: 32.8495 - mae: 32.8495 - val_loss: 38.3563 - val_mae: 38.3563\n",
            "Epoch 38/100\n",
            "600/600 [==============================] - ETA: 0s - loss: 32.7264 - mae: 32.7264\n",
            "Epoch 00038: val_loss did not improve from 38.20825\n",
            "600/600 [==============================] - 60s 99ms/step - loss: 32.7264 - mae: 32.7264 - val_loss: 38.2731 - val_mae: 38.2731\n",
            "Epoch 39/100\n",
            "600/600 [==============================] - ETA: 0s - loss: 32.7021 - mae: 32.7021\n",
            "Epoch 00039: val_loss did not improve from 38.20825\n",
            "600/600 [==============================] - 60s 100ms/step - loss: 32.7021 - mae: 32.7021 - val_loss: 38.7392 - val_mae: 38.7392\n",
            "Epoch 40/100\n",
            "600/600 [==============================] - ETA: 0s - loss: 32.9877 - mae: 32.9877\n",
            "Epoch 00040: val_loss did not improve from 38.20825\n",
            "600/600 [==============================] - 61s 102ms/step - loss: 32.9877 - mae: 32.9877 - val_loss: 39.0780 - val_mae: 39.0780\n",
            "Epoch 41/100\n",
            "600/600 [==============================] - ETA: 0s - loss: 32.7668 - mae: 32.7668\n",
            "Epoch 00041: val_loss did not improve from 38.20825\n",
            "600/600 [==============================] - 60s 100ms/step - loss: 32.7668 - mae: 32.7668 - val_loss: 38.4374 - val_mae: 38.4374\n",
            "Epoch 42/100\n",
            "600/600 [==============================] - ETA: 0s - loss: 32.8543 - mae: 32.8543\n",
            "Epoch 00042: val_loss did not improve from 38.20825\n",
            "600/600 [==============================] - 60s 100ms/step - loss: 32.8543 - mae: 32.8543 - val_loss: 68.4606 - val_mae: 68.4606\n",
            "Epoch 43/100\n",
            "600/600 [==============================] - ETA: 0s - loss: 32.8482 - mae: 32.8482\n",
            "Epoch 00043: val_loss did not improve from 38.20825\n",
            "600/600 [==============================] - 60s 100ms/step - loss: 32.8482 - mae: 32.8482 - val_loss: 44.3812 - val_mae: 44.3812\n",
            "Epoch 44/100\n",
            "600/600 [==============================] - ETA: 0s - loss: 32.7643 - mae: 32.7643\n",
            "Epoch 00044: val_loss did not improve from 38.20825\n",
            "600/600 [==============================] - 59s 99ms/step - loss: 32.7643 - mae: 32.7643 - val_loss: 62.8011 - val_mae: 62.8011\n",
            "Epoch 45/100\n",
            "600/600 [==============================] - ETA: 0s - loss: 32.7230 - mae: 32.7230\n",
            "Epoch 00045: val_loss did not improve from 38.20825\n",
            "600/600 [==============================] - 60s 100ms/step - loss: 32.7230 - mae: 32.7230 - val_loss: 89.6108 - val_mae: 89.6108\n",
            "Epoch 46/100\n",
            "600/600 [==============================] - ETA: 0s - loss: 32.8423 - mae: 32.8423\n",
            "Epoch 00046: val_loss did not improve from 38.20825\n",
            "\n",
            "Epoch 00046: ReduceLROnPlateau reducing learning rate to 0.0005120000336319208.\n",
            "600/600 [==============================] - 60s 100ms/step - loss: 32.8423 - mae: 32.8423 - val_loss: 40.4515 - val_mae: 40.4515\n",
            "Epoch 47/100\n",
            "600/600 [==============================] - ETA: 0s - loss: 32.6924 - mae: 32.6924\n",
            "Epoch 00047: val_loss did not improve from 38.20825\n",
            "600/600 [==============================] - 60s 99ms/step - loss: 32.6924 - mae: 32.6924 - val_loss: 38.5333 - val_mae: 38.5333\n",
            "Epoch 48/100\n",
            "600/600 [==============================] - ETA: 0s - loss: 32.6713 - mae: 32.6713\n",
            "Epoch 00048: val_loss did not improve from 38.20825\n",
            "600/600 [==============================] - 59s 99ms/step - loss: 32.6713 - mae: 32.6713 - val_loss: 38.3359 - val_mae: 38.3359\n",
            "Epoch 49/100\n",
            "600/600 [==============================] - ETA: 0s - loss: 32.7463 - mae: 32.7463\n",
            "Epoch 00049: val_loss did not improve from 38.20825\n",
            "600/600 [==============================] - 59s 99ms/step - loss: 32.7463 - mae: 32.7463 - val_loss: 41.7652 - val_mae: 41.7652\n",
            "Epoch 50/100\n",
            "600/600 [==============================] - ETA: 0s - loss: 32.6345 - mae: 32.6345\n",
            "Epoch 00050: val_loss did not improve from 38.20825\n",
            "600/600 [==============================] - 60s 99ms/step - loss: 32.6345 - mae: 32.6345 - val_loss: 39.2044 - val_mae: 39.2044\n",
            "Epoch 51/100\n",
            "600/600 [==============================] - ETA: 0s - loss: 32.3454 - mae: 32.3454\n",
            "Epoch 00051: val_loss did not improve from 38.20825\n",
            "600/600 [==============================] - 60s 100ms/step - loss: 32.3454 - mae: 32.3454 - val_loss: 44.4659 - val_mae: 44.4659\n",
            "Epoch 52/100\n",
            "600/600 [==============================] - ETA: 0s - loss: 32.6047 - mae: 32.6047\n",
            "Epoch 00052: val_loss did not improve from 38.20825\n",
            "600/600 [==============================] - 59s 99ms/step - loss: 32.6047 - mae: 32.6047 - val_loss: 51.9075 - val_mae: 51.9075\n",
            "Epoch 53/100\n",
            "600/600 [==============================] - ETA: 0s - loss: 32.7813 - mae: 32.7813\n",
            "Epoch 00053: val_loss did not improve from 38.20825\n",
            "600/600 [==============================] - 59s 99ms/step - loss: 32.7813 - mae: 32.7813 - val_loss: 38.3028 - val_mae: 38.3028\n",
            "Epoch 54/100\n",
            "600/600 [==============================] - ETA: 0s - loss: 32.8107 - mae: 32.8107\n",
            "Epoch 00054: val_loss did not improve from 38.20825\n",
            "600/600 [==============================] - 59s 99ms/step - loss: 32.8107 - mae: 32.8107 - val_loss: 38.2705 - val_mae: 38.2705\n",
            "Epoch 55/100\n",
            "600/600 [==============================] - ETA: 0s - loss: 32.5134 - mae: 32.5134\n",
            "Epoch 00055: val_loss did not improve from 38.20825\n",
            "600/600 [==============================] - 59s 99ms/step - loss: 32.5134 - mae: 32.5134 - val_loss: 38.4756 - val_mae: 38.4756\n",
            "Epoch 56/100\n",
            "600/600 [==============================] - ETA: 0s - loss: 32.7030 - mae: 32.7030\n",
            "Epoch 00056: val_loss did not improve from 38.20825\n",
            "600/600 [==============================] - 60s 99ms/step - loss: 32.7030 - mae: 32.7030 - val_loss: 38.9602 - val_mae: 38.9602\n",
            "Epoch 57/100\n",
            "600/600 [==============================] - ETA: 0s - loss: 32.9235 - mae: 32.9235\n",
            "Epoch 00057: val_loss did not improve from 38.20825\n",
            "600/600 [==============================] - 59s 99ms/step - loss: 32.9235 - mae: 32.9235 - val_loss: 38.3143 - val_mae: 38.3143\n",
            "Epoch 58/100\n",
            "600/600 [==============================] - ETA: 0s - loss: 32.5935 - mae: 32.5935\n",
            "Epoch 00058: val_loss did not improve from 38.20825\n",
            "600/600 [==============================] - 59s 99ms/step - loss: 32.5935 - mae: 32.5935 - val_loss: 38.8213 - val_mae: 38.8213\n",
            "Epoch 59/100\n",
            "600/600 [==============================] - ETA: 0s - loss: 32.6484 - mae: 32.6484\n",
            "Epoch 00059: val_loss did not improve from 38.20825\n",
            "600/600 [==============================] - 59s 99ms/step - loss: 32.6484 - mae: 32.6484 - val_loss: 38.2206 - val_mae: 38.2206\n",
            "Epoch 60/100\n",
            "600/600 [==============================] - ETA: 0s - loss: 32.7162 - mae: 32.7162\n",
            "Epoch 00060: val_loss did not improve from 38.20825\n",
            "\n",
            "Epoch 00060: ReduceLROnPlateau reducing learning rate to 0.00040960004553198815.\n",
            "600/600 [==============================] - 59s 99ms/step - loss: 32.7162 - mae: 32.7162 - val_loss: 38.2902 - val_mae: 38.2902\n",
            "Epoch 61/100\n",
            "600/600 [==============================] - ETA: 0s - loss: 32.7288 - mae: 32.7288\n",
            "Epoch 00061: val_loss did not improve from 38.20825\n",
            "600/600 [==============================] - 60s 99ms/step - loss: 32.7288 - mae: 32.7288 - val_loss: 38.3124 - val_mae: 38.3124\n",
            "Epoch 62/100\n",
            "600/600 [==============================] - ETA: 0s - loss: 32.5282 - mae: 32.5282\n",
            "Epoch 00062: val_loss did not improve from 38.20825\n",
            "600/600 [==============================] - 59s 99ms/step - loss: 32.5282 - mae: 32.5282 - val_loss: 38.5796 - val_mae: 38.5796\n",
            "Epoch 63/100\n",
            "600/600 [==============================] - ETA: 0s - loss: 32.5989 - mae: 32.5989\n",
            "Epoch 00063: val_loss did not improve from 38.20825\n",
            "600/600 [==============================] - 59s 99ms/step - loss: 32.5989 - mae: 32.5989 - val_loss: 38.3112 - val_mae: 38.3112\n",
            "Epoch 64/100\n",
            "600/600 [==============================] - ETA: 0s - loss: 32.7724 - mae: 32.7724\n",
            "Epoch 00064: val_loss did not improve from 38.20825\n",
            "600/600 [==============================] - 60s 100ms/step - loss: 32.7724 - mae: 32.7724 - val_loss: 38.9843 - val_mae: 38.9843\n",
            "Epoch 65/100\n",
            "600/600 [==============================] - ETA: 0s - loss: 32.6533 - mae: 32.6533\n",
            "Epoch 00065: val_loss did not improve from 38.20825\n",
            "600/600 [==============================] - 61s 102ms/step - loss: 32.6533 - mae: 32.6533 - val_loss: 38.3160 - val_mae: 38.3160\n",
            "Epoch 66/100\n",
            "600/600 [==============================] - ETA: 0s - loss: 32.6760 - mae: 32.6760\n",
            "Epoch 00066: val_loss did not improve from 38.20825\n",
            "600/600 [==============================] - 61s 102ms/step - loss: 32.6760 - mae: 32.6760 - val_loss: 39.6060 - val_mae: 39.6060\n",
            "Epoch 67/100\n",
            "600/600 [==============================] - ETA: 0s - loss: 32.6819 - mae: 32.6819\n",
            "Epoch 00067: val_loss did not improve from 38.20825\n",
            "600/600 [==============================] - 62s 103ms/step - loss: 32.6819 - mae: 32.6819 - val_loss: 38.4786 - val_mae: 38.4786\n",
            "Epoch 68/100\n",
            "600/600 [==============================] - ETA: 0s - loss: 32.5759 - mae: 32.5759\n",
            "Epoch 00068: val_loss did not improve from 38.20825\n",
            "600/600 [==============================] - 61s 102ms/step - loss: 32.5759 - mae: 32.5759 - val_loss: 38.5353 - val_mae: 38.5353\n",
            "Epoch 69/100\n",
            "600/600 [==============================] - ETA: 0s - loss: 32.6400 - mae: 32.6400\n",
            "Epoch 00069: val_loss did not improve from 38.20825\n",
            "600/600 [==============================] - 60s 100ms/step - loss: 32.6400 - mae: 32.6400 - val_loss: 38.4660 - val_mae: 38.4660\n",
            "Epoch 70/100\n",
            "600/600 [==============================] - ETA: 0s - loss: 32.5820 - mae: 32.5820\n",
            "Epoch 00070: val_loss did not improve from 38.20825\n",
            "600/600 [==============================] - 60s 100ms/step - loss: 32.5820 - mae: 32.5820 - val_loss: 38.4272 - val_mae: 38.4272\n",
            "Epoch 71/100\n",
            "600/600 [==============================] - ETA: 0s - loss: 32.5741 - mae: 32.5741\n",
            "Epoch 00071: val_loss did not improve from 38.20825\n",
            "600/600 [==============================] - 60s 100ms/step - loss: 32.5741 - mae: 32.5741 - val_loss: 39.7400 - val_mae: 39.7400\n",
            "Epoch 72/100\n",
            "600/600 [==============================] - ETA: 0s - loss: 32.6721 - mae: 32.6721\n",
            "Epoch 00072: val_loss did not improve from 38.20825\n",
            "600/600 [==============================] - 59s 99ms/step - loss: 32.6721 - mae: 32.6721 - val_loss: 38.7478 - val_mae: 38.7478\n",
            "Epoch 73/100\n",
            "600/600 [==============================] - ETA: 0s - loss: 32.6314 - mae: 32.6314\n",
            "Epoch 00073: val_loss did not improve from 38.20825\n",
            "600/600 [==============================] - 60s 100ms/step - loss: 32.6314 - mae: 32.6314 - val_loss: 38.2984 - val_mae: 38.2984\n",
            "Epoch 74/100\n",
            "600/600 [==============================] - ETA: 0s - loss: 32.6781 - mae: 32.6781\n",
            "Epoch 00074: val_loss improved from 38.20825 to 38.19337, saving model to /content/drive/My Drive/Projects/bone_age_prediction/checkpoint weights-74-38.19.h5\n",
            "600/600 [==============================] - 63s 105ms/step - loss: 32.6781 - mae: 32.6781 - val_loss: 38.1934 - val_mae: 38.1934\n",
            "Epoch 75/100\n",
            "600/600 [==============================] - ETA: 0s - loss: 32.4510 - mae: 32.4510\n",
            "Epoch 00075: val_loss did not improve from 38.19337\n",
            "600/600 [==============================] - 64s 107ms/step - loss: 32.4510 - mae: 32.4510 - val_loss: 38.2311 - val_mae: 38.2311\n",
            "Epoch 76/100\n",
            "600/600 [==============================] - ETA: 0s - loss: 32.5492 - mae: 32.5492\n",
            "Epoch 00076: val_loss did not improve from 38.19337\n",
            "600/600 [==============================] - 60s 99ms/step - loss: 32.5492 - mae: 32.5492 - val_loss: 38.3125 - val_mae: 38.3125\n",
            "Epoch 77/100\n",
            "600/600 [==============================] - ETA: 0s - loss: 32.6239 - mae: 32.6239\n",
            "Epoch 00077: val_loss did not improve from 38.19337\n",
            "600/600 [==============================] - 60s 99ms/step - loss: 32.6239 - mae: 32.6239 - val_loss: 38.2897 - val_mae: 38.2897\n",
            "Epoch 78/100\n",
            "600/600 [==============================] - ETA: 0s - loss: 32.7963 - mae: 32.7963\n",
            "Epoch 00078: val_loss did not improve from 38.19337\n",
            "600/600 [==============================] - 59s 99ms/step - loss: 32.7963 - mae: 32.7963 - val_loss: 38.3131 - val_mae: 38.3131\n",
            "Epoch 79/100\n",
            "600/600 [==============================] - ETA: 0s - loss: 32.5428 - mae: 32.5428\n",
            "Epoch 00079: val_loss did not improve from 38.19337\n",
            "600/600 [==============================] - 59s 98ms/step - loss: 32.5428 - mae: 32.5428 - val_loss: 38.3264 - val_mae: 38.3264\n",
            "Epoch 80/100\n",
            "600/600 [==============================] - ETA: 0s - loss: 32.5635 - mae: 32.5635\n",
            "Epoch 00080: val_loss did not improve from 38.19337\n",
            "600/600 [==============================] - 59s 98ms/step - loss: 32.5635 - mae: 32.5635 - val_loss: 38.2937 - val_mae: 38.2937\n",
            "Epoch 81/100\n",
            "600/600 [==============================] - ETA: 0s - loss: 32.8248 - mae: 32.8248\n",
            "Epoch 00081: val_loss did not improve from 38.19337\n",
            "600/600 [==============================] - 62s 103ms/step - loss: 32.8248 - mae: 32.8248 - val_loss: 38.7252 - val_mae: 38.7252\n",
            "Epoch 82/100\n",
            "600/600 [==============================] - ETA: 0s - loss: 32.5816 - mae: 32.5816\n",
            "Epoch 00082: val_loss did not improve from 38.19337\n",
            "600/600 [==============================] - 61s 101ms/step - loss: 32.5816 - mae: 32.5816 - val_loss: 38.4393 - val_mae: 38.4393\n",
            "Epoch 83/100\n",
            "600/600 [==============================] - ETA: 0s - loss: 32.5279 - mae: 32.5279\n",
            "Epoch 00083: val_loss did not improve from 38.19337\n",
            "600/600 [==============================] - 60s 101ms/step - loss: 32.5279 - mae: 32.5279 - val_loss: 38.8957 - val_mae: 38.8957\n",
            "Epoch 84/100\n",
            "600/600 [==============================] - ETA: 0s - loss: 32.7497 - mae: 32.7497\n",
            "Epoch 00084: val_loss did not improve from 38.19337\n",
            "\n",
            "Epoch 00084: ReduceLROnPlateau reducing learning rate to 0.00032768002711236477.\n",
            "600/600 [==============================] - 61s 102ms/step - loss: 32.7497 - mae: 32.7497 - val_loss: 38.2160 - val_mae: 38.2160\n",
            "Epoch 85/100\n",
            "600/600 [==============================] - ETA: 0s - loss: 32.5163 - mae: 32.5163\n",
            "Epoch 00085: val_loss did not improve from 38.19337\n",
            "600/600 [==============================] - 62s 103ms/step - loss: 32.5163 - mae: 32.5163 - val_loss: 38.3135 - val_mae: 38.3135\n",
            "Epoch 86/100\n",
            "600/600 [==============================] - ETA: 0s - loss: 32.7258 - mae: 32.7258\n",
            "Epoch 00086: val_loss did not improve from 38.19337\n",
            "600/600 [==============================] - 60s 100ms/step - loss: 32.7258 - mae: 32.7258 - val_loss: 38.2645 - val_mae: 38.2645\n",
            "Epoch 87/100\n",
            "600/600 [==============================] - ETA: 0s - loss: 32.5383 - mae: 32.5383\n",
            "Epoch 00087: val_loss did not improve from 38.19337\n",
            "600/600 [==============================] - 61s 101ms/step - loss: 32.5383 - mae: 32.5383 - val_loss: 38.5122 - val_mae: 38.5122\n",
            "Epoch 88/100\n",
            "600/600 [==============================] - ETA: 0s - loss: 32.5515 - mae: 32.5515\n",
            "Epoch 00088: val_loss did not improve from 38.19337\n",
            "600/600 [==============================] - 60s 100ms/step - loss: 32.5515 - mae: 32.5515 - val_loss: 38.4243 - val_mae: 38.4243\n",
            "Epoch 89/100\n",
            "600/600 [==============================] - ETA: 0s - loss: 32.5017 - mae: 32.5017\n",
            "Epoch 00089: val_loss did not improve from 38.19337\n",
            "600/600 [==============================] - 60s 100ms/step - loss: 32.5017 - mae: 32.5017 - val_loss: 38.3111 - val_mae: 38.3111\n",
            "Epoch 90/100\n",
            "600/600 [==============================] - ETA: 0s - loss: 32.6982 - mae: 32.6982\n",
            "Epoch 00090: val_loss did not improve from 38.19337\n",
            "600/600 [==============================] - 60s 99ms/step - loss: 32.6982 - mae: 32.6982 - val_loss: 38.5322 - val_mae: 38.5322\n",
            "Epoch 91/100\n",
            "600/600 [==============================] - ETA: 0s - loss: 32.5579 - mae: 32.5579\n",
            "Epoch 00091: val_loss did not improve from 38.19337\n",
            "600/600 [==============================] - 60s 99ms/step - loss: 32.5579 - mae: 32.5579 - val_loss: 38.3670 - val_mae: 38.3670\n",
            "Epoch 92/100\n",
            "600/600 [==============================] - ETA: 0s - loss: 32.6605 - mae: 32.6605\n",
            "Epoch 00092: val_loss did not improve from 38.19337\n",
            "600/600 [==============================] - 60s 100ms/step - loss: 32.6605 - mae: 32.6605 - val_loss: 38.2791 - val_mae: 38.2791\n",
            "Epoch 93/100\n",
            "600/600 [==============================] - ETA: 0s - loss: 32.7020 - mae: 32.7020\n",
            "Epoch 00093: val_loss did not improve from 38.19337\n",
            "600/600 [==============================] - 60s 100ms/step - loss: 32.7020 - mae: 32.7020 - val_loss: 38.3611 - val_mae: 38.3611\n",
            "Epoch 94/100\n",
            "600/600 [==============================] - ETA: 0s - loss: 32.5297 - mae: 32.5297\n",
            "Epoch 00094: val_loss did not improve from 38.19337\n",
            "600/600 [==============================] - 60s 99ms/step - loss: 32.5297 - mae: 32.5297 - val_loss: 38.3333 - val_mae: 38.3333\n",
            "Epoch 95/100\n",
            "600/600 [==============================] - ETA: 0s - loss: 32.5514 - mae: 32.5514\n",
            "Epoch 00095: val_loss did not improve from 38.19337\n",
            "600/600 [==============================] - 60s 99ms/step - loss: 32.5514 - mae: 32.5514 - val_loss: 39.0237 - val_mae: 39.0237\n",
            "Epoch 96/100\n",
            "172/600 [=======>......................] - ETA: 41s - loss: 33.0559 - mae: 33.0559Buffered data was truncated after reaching the output size limit."
          ],
          "name": "stdout"
        }
      ]
    },
    {
      "cell_type": "markdown",
      "metadata": {
        "id": "NkHYEgCP3tjS"
      },
      "source": [
        "#evaluation"
      ]
    },
    {
      "cell_type": "code",
      "metadata": {
        "id": "s4bMRbFaWw6v",
        "outputId": "4e6316a6-6a3e-4bcb-c7c1-8bd6a386a0d8",
        "colab": {
          "base_uri": "https://localhost:8080/",
          "height": 562
        }
      },
      "source": [
        "# PLOT LOSS AND ACCURACY\n",
        "%matplotlib inline\n",
        "\n",
        "import matplotlib.image  as mpimg\n",
        "import matplotlib.pyplot as plt\n",
        "\n",
        "#-----------------------------------------------------------\n",
        "# Retrieve a list of list results on training and test data\n",
        "# sets for each training epoch\n",
        "#-----------------------------------------------------------\n",
        "acc=history.history['mae']\n",
        "val_acc=history.history['val_mae']\n",
        "loss=history.history['loss']\n",
        "val_loss=history.history['val_loss']\n",
        "\n",
        "epochs=range(len(acc)) # Get number of epochs\n",
        "\n",
        "#------------------------------------------------\n",
        "# Plot training and validation accuracy per epoch\n",
        "#------------------------------------------------\n",
        "plt.plot(epochs, acc, 'r', \"Training Accuracy\")\n",
        "plt.plot(epochs, val_acc, 'b', \"Validation Accuracy\")\n",
        "plt.title('Training and validation accuracy')\n",
        "plt.figure()\n",
        "\n",
        "#------------------------------------------------\n",
        "# Plot training and validation loss per epoch\n",
        "#------------------------------------------------\n",
        "plt.plot(epochs, loss, 'r', \"Training Loss\")\n",
        "plt.plot(epochs, val_loss, 'b', \"Validation Loss\")\n",
        "\n",
        "\n",
        "plt.title('Training and validation loss')\n",
        "\n",
        "# Desired output. Charts with training and validation metrics. No crash :)"
      ],
      "execution_count": null,
      "outputs": [
        {
          "output_type": "execute_result",
          "data": {
            "text/plain": [
              "Text(0.5, 1.0, 'Training and validation loss')"
            ]
          },
          "metadata": {
            "tags": []
          },
          "execution_count": 104
        },
        {
          "output_type": "display_data",
          "data": {
            "image/png": "[encoded data removed]",
            "text/plain": [
              "<Figure size 432x288 with 1 Axes>"
            ]
          },
          "metadata": {
            "tags": [],
            "needs_background": "light"
          }
        },
        {
          "output_type": "display_data",
          "data": {
            "image/png": "[encoded data removed]",
            "text/plain": [
              "<Figure size 432x288 with 1 Axes>"
            ]
          },
          "metadata": {
            "tags": [],
            "needs_background": "light"
          }
        }
      ]
    },
    {
      "cell_type": "markdown",
      "metadata": {
        "id": "PLZosF9a3ye2"
      },
      "source": [
        "#loading checkpiont and predicting"
      ]
    },
    {
      "cell_type": "code",
      "metadata": {
        "id": "zfxoXx4MFVT5"
      },
      "source": [
        "checkpoint_path = \"/content/drive/My Drive/Projects/bone_age_prediction/checkpoint weights-07-38.19.h5\"\n",
        "model.load_weights(checkpoint_path)"
      ],
      "execution_count": null,
      "outputs": []
    },
    {
      "cell_type": "code",
      "metadata": {
        "id": "pJmsFkY3D6SQ"
      },
      "source": [
        "img_name = f'/content/valdation/val_img/{validation_data_list[200]}'\n",
        "img = Image.open(img_name).convert('RGB')\n",
        "img = np.array(img.resize((150,150)))\n",
        "img = img.reshape( img.shape[0], img.shape[1],img.shape[2])\n",
        "img = np.array(np.reshape(img, (-1, 150, 150, 3)), dtype='float32')/255.0"
      ],
      "execution_count": null,
      "outputs": []
    },
    {
      "cell_type": "code",
      "metadata": {
        "id": "Clax_yr6BhWF",
        "outputId": "2fa44df5-8e0a-4684-d4e1-bacc14b5913c",
        "colab": {
          "base_uri": "https://localhost:8080/",
          "height": 51
        }
      },
      "source": [
        "pred= model.predict(img)\n",
        "print(pred)\n",
        "print(boneage_val[200])"
      ],
      "execution_count": null,
      "outputs": [
        {
          "output_type": "stream",
          "text": [
            "[[130.53416]]\n",
            "162.0\n"
          ],
          "name": "stdout"
        }
      ]
    }
  ]
}